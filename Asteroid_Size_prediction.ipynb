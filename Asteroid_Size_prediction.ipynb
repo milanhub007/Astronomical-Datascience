{
  "nbformat": 4,
  "nbformat_minor": 0,
  "metadata": {
    "colab": {
      "provenance": []
    },
    "kernelspec": {
      "name": "python3",
      "display_name": "Python 3"
    },
    "language_info": {
      "name": "python"
    },
    "accelerator": "GPU",
    "gpuClass": "standard"
  },
  "cells": [
    {
      "cell_type": "markdown",
      "source": [
        "# Asteroid Size Prediction"
      ],
      "metadata": {
        "id": "Wx_RGcdJyjga"
      }
    },
    {
      "cell_type": "markdown",
      "source": [
        "To predict the asteroid size using various algorithms and find out the R2 Score. Fine tune the model to get best possible R2 Score.\n",
        "\n",
        "Get the Asteroid Dataset using the following link\n",
        "\n",
        "https://www.kaggle.com/datasets/basu369victor/prediction-of-asteroid-diameter?select=Asteroid_Updated.csv "
      ],
      "metadata": {
        "id": "_A4G8rW3iFvT"
      }
    },
    {
      "cell_type": "markdown",
      "source": [
        "Importing Libraries"
      ],
      "metadata": {
        "id": "Dr8LQJEzteW4"
      }
    },
    {
      "cell_type": "code",
      "execution_count": null,
      "metadata": {
        "id": "lbs94sYNcRY2"
      },
      "outputs": [],
      "source": [
        "import numpy as np\n",
        "import pandas as pd\n",
        "import matplotlib.pyplot as plt\n",
        "import seaborn as sns\n",
        "import statsmodels\n",
        "import statsmodels.api as sm"
      ]
    },
    {
      "cell_type": "code",
      "source": [
        "df = pd.read_csv('/content/Asteroid_Updated.csv',sep=',')\n",
        "df.head()"
      ],
      "metadata": {
        "colab": {
          "base_uri": "https://localhost:8080/",
          "height": 334
        },
        "id": "QGYV_NnT3ppw",
        "outputId": "e8cdb676-4b8d-4874-e10e-f75cc2ae1d6c"
      },
      "execution_count": null,
      "outputs": [
        {
          "output_type": "stream",
          "name": "stderr",
          "text": [
            "/usr/local/lib/python3.8/dist-packages/IPython/core/interactiveshell.py:3326: DtypeWarning: Columns (0,10,15,16,23,24) have mixed types.Specify dtype option on import or set low_memory=False.\n",
            "  exec(code_obj, self.user_global_ns, self.user_ns)\n"
          ]
        },
        {
          "output_type": "execute_result",
          "data": {
            "text/plain": [
              "      name         a         e          i          om           w         q  \\\n",
              "0    Ceres  2.769165  0.076009  10.594067   80.305532   73.597694  2.558684   \n",
              "1   Pallas  2.772466  0.230337  34.836234  173.080063  310.048857  2.133865   \n",
              "2     Juno  2.669150  0.256942  12.988919  169.852760  248.138626  1.983332   \n",
              "3    Vesta  2.361418  0.088721   7.141771  103.810804  150.728541  2.151909   \n",
              "4  Astraea  2.574249  0.191095   5.366988  141.576605  358.687607  2.082324   \n",
              "\n",
              "         ad     per_y  data_arc  ...     UB  IR  spec_B spec_T     G     moid  \\\n",
              "0  2.979647  4.608202    8822.0  ...  0.426 NaN       C      G  0.12  1.59478   \n",
              "1  3.411067  4.616444   72318.0  ...  0.284 NaN       B      B  0.11  1.23324   \n",
              "2  3.354967  4.360814   72684.0  ...  0.433 NaN      Sk      S  0.32  1.03454   \n",
              "3  2.570926  3.628837   24288.0  ...  0.492 NaN       V      V  0.32  1.13948   \n",
              "4  3.066174  4.130323   63507.0  ...  0.411 NaN       S      S   NaN  1.09589   \n",
              "\n",
              "  class         n          per          ma  \n",
              "0   MBA  0.213885  1683.145708   77.372096  \n",
              "1   MBA  0.213503  1686.155999   59.699133  \n",
              "2   MBA  0.226019  1592.787285   34.925016  \n",
              "3   MBA  0.271609  1325.432765   95.861936  \n",
              "4   MBA  0.238632  1508.600458  282.366289  \n",
              "\n",
              "[5 rows x 31 columns]"
            ],
            "text/html": [
              "\n",
              "  <div id=\"df-ce5cf9fe-20ca-43c8-adb5-8358b2171201\">\n",
              "    <div class=\"colab-df-container\">\n",
              "      <div>\n",
              "<style scoped>\n",
              "    .dataframe tbody tr th:only-of-type {\n",
              "        vertical-align: middle;\n",
              "    }\n",
              "\n",
              "    .dataframe tbody tr th {\n",
              "        vertical-align: top;\n",
              "    }\n",
              "\n",
              "    .dataframe thead th {\n",
              "        text-align: right;\n",
              "    }\n",
              "</style>\n",
              "<table border=\"1\" class=\"dataframe\">\n",
              "  <thead>\n",
              "    <tr style=\"text-align: right;\">\n",
              "      <th></th>\n",
              "      <th>name</th>\n",
              "      <th>a</th>\n",
              "      <th>e</th>\n",
              "      <th>i</th>\n",
              "      <th>om</th>\n",
              "      <th>w</th>\n",
              "      <th>q</th>\n",
              "      <th>ad</th>\n",
              "      <th>per_y</th>\n",
              "      <th>data_arc</th>\n",
              "      <th>...</th>\n",
              "      <th>UB</th>\n",
              "      <th>IR</th>\n",
              "      <th>spec_B</th>\n",
              "      <th>spec_T</th>\n",
              "      <th>G</th>\n",
              "      <th>moid</th>\n",
              "      <th>class</th>\n",
              "      <th>n</th>\n",
              "      <th>per</th>\n",
              "      <th>ma</th>\n",
              "    </tr>\n",
              "  </thead>\n",
              "  <tbody>\n",
              "    <tr>\n",
              "      <th>0</th>\n",
              "      <td>Ceres</td>\n",
              "      <td>2.769165</td>\n",
              "      <td>0.076009</td>\n",
              "      <td>10.594067</td>\n",
              "      <td>80.305532</td>\n",
              "      <td>73.597694</td>\n",
              "      <td>2.558684</td>\n",
              "      <td>2.979647</td>\n",
              "      <td>4.608202</td>\n",
              "      <td>8822.0</td>\n",
              "      <td>...</td>\n",
              "      <td>0.426</td>\n",
              "      <td>NaN</td>\n",
              "      <td>C</td>\n",
              "      <td>G</td>\n",
              "      <td>0.12</td>\n",
              "      <td>1.59478</td>\n",
              "      <td>MBA</td>\n",
              "      <td>0.213885</td>\n",
              "      <td>1683.145708</td>\n",
              "      <td>77.372096</td>\n",
              "    </tr>\n",
              "    <tr>\n",
              "      <th>1</th>\n",
              "      <td>Pallas</td>\n",
              "      <td>2.772466</td>\n",
              "      <td>0.230337</td>\n",
              "      <td>34.836234</td>\n",
              "      <td>173.080063</td>\n",
              "      <td>310.048857</td>\n",
              "      <td>2.133865</td>\n",
              "      <td>3.411067</td>\n",
              "      <td>4.616444</td>\n",
              "      <td>72318.0</td>\n",
              "      <td>...</td>\n",
              "      <td>0.284</td>\n",
              "      <td>NaN</td>\n",
              "      <td>B</td>\n",
              "      <td>B</td>\n",
              "      <td>0.11</td>\n",
              "      <td>1.23324</td>\n",
              "      <td>MBA</td>\n",
              "      <td>0.213503</td>\n",
              "      <td>1686.155999</td>\n",
              "      <td>59.699133</td>\n",
              "    </tr>\n",
              "    <tr>\n",
              "      <th>2</th>\n",
              "      <td>Juno</td>\n",
              "      <td>2.669150</td>\n",
              "      <td>0.256942</td>\n",
              "      <td>12.988919</td>\n",
              "      <td>169.852760</td>\n",
              "      <td>248.138626</td>\n",
              "      <td>1.983332</td>\n",
              "      <td>3.354967</td>\n",
              "      <td>4.360814</td>\n",
              "      <td>72684.0</td>\n",
              "      <td>...</td>\n",
              "      <td>0.433</td>\n",
              "      <td>NaN</td>\n",
              "      <td>Sk</td>\n",
              "      <td>S</td>\n",
              "      <td>0.32</td>\n",
              "      <td>1.03454</td>\n",
              "      <td>MBA</td>\n",
              "      <td>0.226019</td>\n",
              "      <td>1592.787285</td>\n",
              "      <td>34.925016</td>\n",
              "    </tr>\n",
              "    <tr>\n",
              "      <th>3</th>\n",
              "      <td>Vesta</td>\n",
              "      <td>2.361418</td>\n",
              "      <td>0.088721</td>\n",
              "      <td>7.141771</td>\n",
              "      <td>103.810804</td>\n",
              "      <td>150.728541</td>\n",
              "      <td>2.151909</td>\n",
              "      <td>2.570926</td>\n",
              "      <td>3.628837</td>\n",
              "      <td>24288.0</td>\n",
              "      <td>...</td>\n",
              "      <td>0.492</td>\n",
              "      <td>NaN</td>\n",
              "      <td>V</td>\n",
              "      <td>V</td>\n",
              "      <td>0.32</td>\n",
              "      <td>1.13948</td>\n",
              "      <td>MBA</td>\n",
              "      <td>0.271609</td>\n",
              "      <td>1325.432765</td>\n",
              "      <td>95.861936</td>\n",
              "    </tr>\n",
              "    <tr>\n",
              "      <th>4</th>\n",
              "      <td>Astraea</td>\n",
              "      <td>2.574249</td>\n",
              "      <td>0.191095</td>\n",
              "      <td>5.366988</td>\n",
              "      <td>141.576605</td>\n",
              "      <td>358.687607</td>\n",
              "      <td>2.082324</td>\n",
              "      <td>3.066174</td>\n",
              "      <td>4.130323</td>\n",
              "      <td>63507.0</td>\n",
              "      <td>...</td>\n",
              "      <td>0.411</td>\n",
              "      <td>NaN</td>\n",
              "      <td>S</td>\n",
              "      <td>S</td>\n",
              "      <td>NaN</td>\n",
              "      <td>1.09589</td>\n",
              "      <td>MBA</td>\n",
              "      <td>0.238632</td>\n",
              "      <td>1508.600458</td>\n",
              "      <td>282.366289</td>\n",
              "    </tr>\n",
              "  </tbody>\n",
              "</table>\n",
              "<p>5 rows × 31 columns</p>\n",
              "</div>\n",
              "      <button class=\"colab-df-convert\" onclick=\"convertToInteractive('df-ce5cf9fe-20ca-43c8-adb5-8358b2171201')\"\n",
              "              title=\"Convert this dataframe to an interactive table.\"\n",
              "              style=\"display:none;\">\n",
              "        \n",
              "  <svg xmlns=\"http://www.w3.org/2000/svg\" height=\"24px\"viewBox=\"0 0 24 24\"\n",
              "       width=\"24px\">\n",
              "    <path d=\"M0 0h24v24H0V0z\" fill=\"none\"/>\n",
              "    <path d=\"M18.56 5.44l.94 2.06.94-2.06 2.06-.94-2.06-.94-.94-2.06-.94 2.06-2.06.94zm-11 1L8.5 8.5l.94-2.06 2.06-.94-2.06-.94L8.5 2.5l-.94 2.06-2.06.94zm10 10l.94 2.06.94-2.06 2.06-.94-2.06-.94-.94-2.06-.94 2.06-2.06.94z\"/><path d=\"M17.41 7.96l-1.37-1.37c-.4-.4-.92-.59-1.43-.59-.52 0-1.04.2-1.43.59L10.3 9.45l-7.72 7.72c-.78.78-.78 2.05 0 2.83L4 21.41c.39.39.9.59 1.41.59.51 0 1.02-.2 1.41-.59l7.78-7.78 2.81-2.81c.8-.78.8-2.07 0-2.86zM5.41 20L4 18.59l7.72-7.72 1.47 1.35L5.41 20z\"/>\n",
              "  </svg>\n",
              "      </button>\n",
              "      \n",
              "  <style>\n",
              "    .colab-df-container {\n",
              "      display:flex;\n",
              "      flex-wrap:wrap;\n",
              "      gap: 12px;\n",
              "    }\n",
              "\n",
              "    .colab-df-convert {\n",
              "      background-color: #E8F0FE;\n",
              "      border: none;\n",
              "      border-radius: 50%;\n",
              "      cursor: pointer;\n",
              "      display: none;\n",
              "      fill: #1967D2;\n",
              "      height: 32px;\n",
              "      padding: 0 0 0 0;\n",
              "      width: 32px;\n",
              "    }\n",
              "\n",
              "    .colab-df-convert:hover {\n",
              "      background-color: #E2EBFA;\n",
              "      box-shadow: 0px 1px 2px rgba(60, 64, 67, 0.3), 0px 1px 3px 1px rgba(60, 64, 67, 0.15);\n",
              "      fill: #174EA6;\n",
              "    }\n",
              "\n",
              "    [theme=dark] .colab-df-convert {\n",
              "      background-color: #3B4455;\n",
              "      fill: #D2E3FC;\n",
              "    }\n",
              "\n",
              "    [theme=dark] .colab-df-convert:hover {\n",
              "      background-color: #434B5C;\n",
              "      box-shadow: 0px 1px 3px 1px rgba(0, 0, 0, 0.15);\n",
              "      filter: drop-shadow(0px 1px 2px rgba(0, 0, 0, 0.3));\n",
              "      fill: #FFFFFF;\n",
              "    }\n",
              "  </style>\n",
              "\n",
              "      <script>\n",
              "        const buttonEl =\n",
              "          document.querySelector('#df-ce5cf9fe-20ca-43c8-adb5-8358b2171201 button.colab-df-convert');\n",
              "        buttonEl.style.display =\n",
              "          google.colab.kernel.accessAllowed ? 'block' : 'none';\n",
              "\n",
              "        async function convertToInteractive(key) {\n",
              "          const element = document.querySelector('#df-ce5cf9fe-20ca-43c8-adb5-8358b2171201');\n",
              "          const dataTable =\n",
              "            await google.colab.kernel.invokeFunction('convertToInteractive',\n",
              "                                                     [key], {});\n",
              "          if (!dataTable) return;\n",
              "\n",
              "          const docLinkHtml = 'Like what you see? Visit the ' +\n",
              "            '<a target=\"_blank\" href=https://colab.research.google.com/notebooks/data_table.ipynb>data table notebook</a>'\n",
              "            + ' to learn more about interactive tables.';\n",
              "          element.innerHTML = '';\n",
              "          dataTable['output_type'] = 'display_data';\n",
              "          await google.colab.output.renderOutput(dataTable, element);\n",
              "          const docLink = document.createElement('div');\n",
              "          docLink.innerHTML = docLinkHtml;\n",
              "          element.appendChild(docLink);\n",
              "        }\n",
              "      </script>\n",
              "    </div>\n",
              "  </div>\n",
              "  "
            ]
          },
          "metadata": {},
          "execution_count": 4
        }
      ]
    },
    {
      "cell_type": "code",
      "source": [
        "df.shape"
      ],
      "metadata": {
        "colab": {
          "base_uri": "https://localhost:8080/"
        },
        "id": "ydmN6opj3tuO",
        "outputId": "dc964d93-beae-4144-dab1-abc1c209fd3e"
      },
      "execution_count": null,
      "outputs": [
        {
          "output_type": "execute_result",
          "data": {
            "text/plain": [
              "(839714, 31)"
            ]
          },
          "metadata": {},
          "execution_count": 5
        }
      ]
    },
    {
      "cell_type": "markdown",
      "source": [
        "Data Preprocessing"
      ],
      "metadata": {
        "id": "FDl628PhtlVT"
      }
    },
    {
      "cell_type": "code",
      "source": [
        "#Renaming the columns\n",
        "df.columns"
      ],
      "metadata": {
        "colab": {
          "base_uri": "https://localhost:8080/"
        },
        "id": "BQGJttv83vip",
        "outputId": "5f718236-2b13-4b9e-dbb7-5064f566d1df"
      },
      "execution_count": null,
      "outputs": [
        {
          "output_type": "execute_result",
          "data": {
            "text/plain": [
              "Index(['name', 'a', 'e', 'i', 'om', 'w', 'q', 'ad', 'per_y', 'data_arc',\n",
              "       'condition_code', 'n_obs_used', 'H', 'neo', 'pha', 'diameter', 'extent',\n",
              "       'albedo', 'rot_per', 'GM', 'BV', 'UB', 'IR', 'spec_B', 'spec_T', 'G',\n",
              "       'moid', 'class', 'n', 'per', 'ma'],\n",
              "      dtype='object')"
            ]
          },
          "metadata": {},
          "execution_count": 6
        }
      ]
    },
    {
      "cell_type": "code",
      "source": [
        "new_columns_dict = {'name':'obj_name','a':'semi-major_axis(au)','e':'eccentricity',\n",
        "                    'i':'x-y_inclination(deg)','om':'longitude_asc_node','w':'argument_perihelion',\n",
        "                    'q':'perihelion_dist(au)','ad':'aphelion_dist(au)', 'per_y':'orbital_period',\n",
        "                   'data_arc':'data_arc(d)','condition_code':'condition_code','n_obs_used':'n_obs_used',\n",
        "                   'H':'abs_mag_para', 'neo':'near_earth_obj', 'pha':'physically_hazardous_asteroid',\n",
        "                   'diameter':'diameter','extent':'axial_ellipsoid_dim(Km)','albedo':'geo_albedo',\n",
        "                   'rot_per':'rot_per(h)','GM':'std_gravitational_para','BV':'bv_color_mag_diff',\n",
        "                   'UB':'ub_color_mag_diff','IR':'ir_color_mag_diff','spec_B':'SMASSII_spec_tax_type',\n",
        "                   'spec_T':'Tholen_spec_tax_type','G':'mag_slope_para','moid':'earth_min_oribit_inter_dist(au)',\n",
        "                   'class':'class','n':'mean_motion(deg/d)','per':'orbital_period(d)','ma':'mean_anomaly(deg)'}"
      ],
      "metadata": {
        "id": "J7Kho_AOW2CL"
      },
      "execution_count": null,
      "outputs": []
    },
    {
      "cell_type": "code",
      "source": [
        "df = df.rename(columns = new_columns_dict)\n",
        "df.columns"
      ],
      "metadata": {
        "colab": {
          "base_uri": "https://localhost:8080/"
        },
        "id": "we92-30v3vd-",
        "outputId": "fdd8d4b0-29a8-410b-c859-76ea9807654a"
      },
      "execution_count": null,
      "outputs": [
        {
          "output_type": "execute_result",
          "data": {
            "text/plain": [
              "Index(['obj_name', 'semi-major_axis(au)', 'eccentricity',\n",
              "       'x-y_inclination(deg)', 'longitude_asc_node', 'argument_perihelion',\n",
              "       'perihelion_dist(au)', 'aphelion_dist(au)', 'orbital_period',\n",
              "       'data_arc(d)', 'condition_code', 'n_obs_used', 'abs_mag_para',\n",
              "       'near_earth_obj', 'physically_hazardous_asteroid', 'diameter',\n",
              "       'axial_ellipsoid_dim(Km)', 'geo_albedo', 'rot_per(h)',\n",
              "       'std_gravitational_para', 'bv_color_mag_diff', 'ub_color_mag_diff',\n",
              "       'ir_color_mag_diff', 'SMASSII_spec_tax_type', 'Tholen_spec_tax_type',\n",
              "       'mag_slope_para', 'earth_min_oribit_inter_dist(au)', 'class',\n",
              "       'mean_motion(deg/d)', 'orbital_period(d)', 'mean_anomaly(deg)'],\n",
              "      dtype='object')"
            ]
          },
          "metadata": {},
          "execution_count": 8
        }
      ]
    },
    {
      "cell_type": "code",
      "source": [
        "#Missing values percentages at column level.\n",
        "missing= pd.concat([pd.isnull(df).sum(), 100 * pd.isnull(df).mean()], axis=1)\n",
        "missing.columns=['count', '%']\n",
        "missing.sort_values(by=['count'])"
      ],
      "metadata": {
        "colab": {
          "base_uri": "https://localhost:8080/",
          "height": 1000
        },
        "id": "L-f408ZR3va2",
        "outputId": "e9b6fcc8-1851-4ef5-c151-f12361aafb87"
      },
      "execution_count": null,
      "outputs": [
        {
          "output_type": "execute_result",
          "data": {
            "text/plain": [
              "                                  count          %\n",
              "eccentricity                          0   0.000000\n",
              "x-y_inclination(deg)                  0   0.000000\n",
              "longitude_asc_node                    0   0.000000\n",
              "argument_perihelion                   0   0.000000\n",
              "perihelion_dist(au)                   0   0.000000\n",
              "class                                 0   0.000000\n",
              "n_obs_used                            0   0.000000\n",
              "orbital_period                        1   0.000119\n",
              "semi-major_axis(au)                   2   0.000238\n",
              "mean_motion(deg/d)                    2   0.000238\n",
              "aphelion_dist(au)                     6   0.000715\n",
              "near_earth_obj                        6   0.000715\n",
              "orbital_period(d)                     6   0.000715\n",
              "mean_anomaly(deg)                     8   0.000953\n",
              "condition_code                      867   0.103249\n",
              "abs_mag_para                       2689   0.320228\n",
              "data_arc(d)                       15474   1.842770\n",
              "physically_hazardous_asteroid     16442   1.958048\n",
              "earth_min_oribit_inter_dist(au)   16442   1.958048\n",
              "diameter                         702078  83.609181\n",
              "geo_albedo                       703305  83.755302\n",
              "obj_name                         817747  97.383990\n",
              "rot_per(h)                       820918  97.761619\n",
              "SMASSII_spec_tax_type            838048  99.801599\n",
              "bv_color_mag_diff                838693  99.878411\n",
              "Tholen_spec_tax_type             838734  99.883294\n",
              "ub_color_mag_diff                838735  99.883413\n",
              "mag_slope_para                   839595  99.985829\n",
              "axial_ellipsoid_dim(Km)          839696  99.997856\n",
              "std_gravitational_para           839700  99.998333\n",
              "ir_color_mag_diff                839713  99.999881"
            ],
            "text/html": [
              "\n",
              "  <div id=\"df-49d04081-0c8e-44ad-b137-3f0e6241e989\">\n",
              "    <div class=\"colab-df-container\">\n",
              "      <div>\n",
              "<style scoped>\n",
              "    .dataframe tbody tr th:only-of-type {\n",
              "        vertical-align: middle;\n",
              "    }\n",
              "\n",
              "    .dataframe tbody tr th {\n",
              "        vertical-align: top;\n",
              "    }\n",
              "\n",
              "    .dataframe thead th {\n",
              "        text-align: right;\n",
              "    }\n",
              "</style>\n",
              "<table border=\"1\" class=\"dataframe\">\n",
              "  <thead>\n",
              "    <tr style=\"text-align: right;\">\n",
              "      <th></th>\n",
              "      <th>count</th>\n",
              "      <th>%</th>\n",
              "    </tr>\n",
              "  </thead>\n",
              "  <tbody>\n",
              "    <tr>\n",
              "      <th>eccentricity</th>\n",
              "      <td>0</td>\n",
              "      <td>0.000000</td>\n",
              "    </tr>\n",
              "    <tr>\n",
              "      <th>x-y_inclination(deg)</th>\n",
              "      <td>0</td>\n",
              "      <td>0.000000</td>\n",
              "    </tr>\n",
              "    <tr>\n",
              "      <th>longitude_asc_node</th>\n",
              "      <td>0</td>\n",
              "      <td>0.000000</td>\n",
              "    </tr>\n",
              "    <tr>\n",
              "      <th>argument_perihelion</th>\n",
              "      <td>0</td>\n",
              "      <td>0.000000</td>\n",
              "    </tr>\n",
              "    <tr>\n",
              "      <th>perihelion_dist(au)</th>\n",
              "      <td>0</td>\n",
              "      <td>0.000000</td>\n",
              "    </tr>\n",
              "    <tr>\n",
              "      <th>class</th>\n",
              "      <td>0</td>\n",
              "      <td>0.000000</td>\n",
              "    </tr>\n",
              "    <tr>\n",
              "      <th>n_obs_used</th>\n",
              "      <td>0</td>\n",
              "      <td>0.000000</td>\n",
              "    </tr>\n",
              "    <tr>\n",
              "      <th>orbital_period</th>\n",
              "      <td>1</td>\n",
              "      <td>0.000119</td>\n",
              "    </tr>\n",
              "    <tr>\n",
              "      <th>semi-major_axis(au)</th>\n",
              "      <td>2</td>\n",
              "      <td>0.000238</td>\n",
              "    </tr>\n",
              "    <tr>\n",
              "      <th>mean_motion(deg/d)</th>\n",
              "      <td>2</td>\n",
              "      <td>0.000238</td>\n",
              "    </tr>\n",
              "    <tr>\n",
              "      <th>aphelion_dist(au)</th>\n",
              "      <td>6</td>\n",
              "      <td>0.000715</td>\n",
              "    </tr>\n",
              "    <tr>\n",
              "      <th>near_earth_obj</th>\n",
              "      <td>6</td>\n",
              "      <td>0.000715</td>\n",
              "    </tr>\n",
              "    <tr>\n",
              "      <th>orbital_period(d)</th>\n",
              "      <td>6</td>\n",
              "      <td>0.000715</td>\n",
              "    </tr>\n",
              "    <tr>\n",
              "      <th>mean_anomaly(deg)</th>\n",
              "      <td>8</td>\n",
              "      <td>0.000953</td>\n",
              "    </tr>\n",
              "    <tr>\n",
              "      <th>condition_code</th>\n",
              "      <td>867</td>\n",
              "      <td>0.103249</td>\n",
              "    </tr>\n",
              "    <tr>\n",
              "      <th>abs_mag_para</th>\n",
              "      <td>2689</td>\n",
              "      <td>0.320228</td>\n",
              "    </tr>\n",
              "    <tr>\n",
              "      <th>data_arc(d)</th>\n",
              "      <td>15474</td>\n",
              "      <td>1.842770</td>\n",
              "    </tr>\n",
              "    <tr>\n",
              "      <th>physically_hazardous_asteroid</th>\n",
              "      <td>16442</td>\n",
              "      <td>1.958048</td>\n",
              "    </tr>\n",
              "    <tr>\n",
              "      <th>earth_min_oribit_inter_dist(au)</th>\n",
              "      <td>16442</td>\n",
              "      <td>1.958048</td>\n",
              "    </tr>\n",
              "    <tr>\n",
              "      <th>diameter</th>\n",
              "      <td>702078</td>\n",
              "      <td>83.609181</td>\n",
              "    </tr>\n",
              "    <tr>\n",
              "      <th>geo_albedo</th>\n",
              "      <td>703305</td>\n",
              "      <td>83.755302</td>\n",
              "    </tr>\n",
              "    <tr>\n",
              "      <th>obj_name</th>\n",
              "      <td>817747</td>\n",
              "      <td>97.383990</td>\n",
              "    </tr>\n",
              "    <tr>\n",
              "      <th>rot_per(h)</th>\n",
              "      <td>820918</td>\n",
              "      <td>97.761619</td>\n",
              "    </tr>\n",
              "    <tr>\n",
              "      <th>SMASSII_spec_tax_type</th>\n",
              "      <td>838048</td>\n",
              "      <td>99.801599</td>\n",
              "    </tr>\n",
              "    <tr>\n",
              "      <th>bv_color_mag_diff</th>\n",
              "      <td>838693</td>\n",
              "      <td>99.878411</td>\n",
              "    </tr>\n",
              "    <tr>\n",
              "      <th>Tholen_spec_tax_type</th>\n",
              "      <td>838734</td>\n",
              "      <td>99.883294</td>\n",
              "    </tr>\n",
              "    <tr>\n",
              "      <th>ub_color_mag_diff</th>\n",
              "      <td>838735</td>\n",
              "      <td>99.883413</td>\n",
              "    </tr>\n",
              "    <tr>\n",
              "      <th>mag_slope_para</th>\n",
              "      <td>839595</td>\n",
              "      <td>99.985829</td>\n",
              "    </tr>\n",
              "    <tr>\n",
              "      <th>axial_ellipsoid_dim(Km)</th>\n",
              "      <td>839696</td>\n",
              "      <td>99.997856</td>\n",
              "    </tr>\n",
              "    <tr>\n",
              "      <th>std_gravitational_para</th>\n",
              "      <td>839700</td>\n",
              "      <td>99.998333</td>\n",
              "    </tr>\n",
              "    <tr>\n",
              "      <th>ir_color_mag_diff</th>\n",
              "      <td>839713</td>\n",
              "      <td>99.999881</td>\n",
              "    </tr>\n",
              "  </tbody>\n",
              "</table>\n",
              "</div>\n",
              "      <button class=\"colab-df-convert\" onclick=\"convertToInteractive('df-49d04081-0c8e-44ad-b137-3f0e6241e989')\"\n",
              "              title=\"Convert this dataframe to an interactive table.\"\n",
              "              style=\"display:none;\">\n",
              "        \n",
              "  <svg xmlns=\"http://www.w3.org/2000/svg\" height=\"24px\"viewBox=\"0 0 24 24\"\n",
              "       width=\"24px\">\n",
              "    <path d=\"M0 0h24v24H0V0z\" fill=\"none\"/>\n",
              "    <path d=\"M18.56 5.44l.94 2.06.94-2.06 2.06-.94-2.06-.94-.94-2.06-.94 2.06-2.06.94zm-11 1L8.5 8.5l.94-2.06 2.06-.94-2.06-.94L8.5 2.5l-.94 2.06-2.06.94zm10 10l.94 2.06.94-2.06 2.06-.94-2.06-.94-.94-2.06-.94 2.06-2.06.94z\"/><path d=\"M17.41 7.96l-1.37-1.37c-.4-.4-.92-.59-1.43-.59-.52 0-1.04.2-1.43.59L10.3 9.45l-7.72 7.72c-.78.78-.78 2.05 0 2.83L4 21.41c.39.39.9.59 1.41.59.51 0 1.02-.2 1.41-.59l7.78-7.78 2.81-2.81c.8-.78.8-2.07 0-2.86zM5.41 20L4 18.59l7.72-7.72 1.47 1.35L5.41 20z\"/>\n",
              "  </svg>\n",
              "      </button>\n",
              "      \n",
              "  <style>\n",
              "    .colab-df-container {\n",
              "      display:flex;\n",
              "      flex-wrap:wrap;\n",
              "      gap: 12px;\n",
              "    }\n",
              "\n",
              "    .colab-df-convert {\n",
              "      background-color: #E8F0FE;\n",
              "      border: none;\n",
              "      border-radius: 50%;\n",
              "      cursor: pointer;\n",
              "      display: none;\n",
              "      fill: #1967D2;\n",
              "      height: 32px;\n",
              "      padding: 0 0 0 0;\n",
              "      width: 32px;\n",
              "    }\n",
              "\n",
              "    .colab-df-convert:hover {\n",
              "      background-color: #E2EBFA;\n",
              "      box-shadow: 0px 1px 2px rgba(60, 64, 67, 0.3), 0px 1px 3px 1px rgba(60, 64, 67, 0.15);\n",
              "      fill: #174EA6;\n",
              "    }\n",
              "\n",
              "    [theme=dark] .colab-df-convert {\n",
              "      background-color: #3B4455;\n",
              "      fill: #D2E3FC;\n",
              "    }\n",
              "\n",
              "    [theme=dark] .colab-df-convert:hover {\n",
              "      background-color: #434B5C;\n",
              "      box-shadow: 0px 1px 3px 1px rgba(0, 0, 0, 0.15);\n",
              "      filter: drop-shadow(0px 1px 2px rgba(0, 0, 0, 0.3));\n",
              "      fill: #FFFFFF;\n",
              "    }\n",
              "  </style>\n",
              "\n",
              "      <script>\n",
              "        const buttonEl =\n",
              "          document.querySelector('#df-49d04081-0c8e-44ad-b137-3f0e6241e989 button.colab-df-convert');\n",
              "        buttonEl.style.display =\n",
              "          google.colab.kernel.accessAllowed ? 'block' : 'none';\n",
              "\n",
              "        async function convertToInteractive(key) {\n",
              "          const element = document.querySelector('#df-49d04081-0c8e-44ad-b137-3f0e6241e989');\n",
              "          const dataTable =\n",
              "            await google.colab.kernel.invokeFunction('convertToInteractive',\n",
              "                                                     [key], {});\n",
              "          if (!dataTable) return;\n",
              "\n",
              "          const docLinkHtml = 'Like what you see? Visit the ' +\n",
              "            '<a target=\"_blank\" href=https://colab.research.google.com/notebooks/data_table.ipynb>data table notebook</a>'\n",
              "            + ' to learn more about interactive tables.';\n",
              "          element.innerHTML = '';\n",
              "          dataTable['output_type'] = 'display_data';\n",
              "          await google.colab.output.renderOutput(dataTable, element);\n",
              "          const docLink = document.createElement('div');\n",
              "          docLink.innerHTML = docLinkHtml;\n",
              "          element.appendChild(docLink);\n",
              "        }\n",
              "      </script>\n",
              "    </div>\n",
              "  </div>\n",
              "  "
            ]
          },
          "metadata": {},
          "execution_count": 9
        }
      ]
    },
    {
      "cell_type": "code",
      "source": [
        "#Calculate the number of non-null diameters. Since Diameter is our targer variable and this supervised learning we can't have rows with Nulls.\n",
        "valid_rows = df['diameter'].notnull().sum()\n",
        "valid_rows"
      ],
      "metadata": {
        "colab": {
          "base_uri": "https://localhost:8080/"
        },
        "id": "V4T3VA6_3vXX",
        "outputId": "3b716195-11e0-4e5d-9e70-8562750900e5"
      },
      "execution_count": null,
      "outputs": [
        {
          "output_type": "execute_result",
          "data": {
            "text/plain": [
              "137636"
            ]
          },
          "metadata": {},
          "execution_count": 10
        }
      ]
    },
    {
      "cell_type": "code",
      "source": [
        "#Even if all rows with missing diameters are removed, there are a significant number of records to work with.\n",
        "#Remove rows with missing diameter.\n",
        "df = df.dropna(axis=0, subset=['diameter']) "
      ],
      "metadata": {
        "id": "Tbfl58DY3vTn"
      },
      "execution_count": null,
      "outputs": []
    },
    {
      "cell_type": "code",
      "source": [
        "#Missing values percentages at column level.\n",
        "missing= pd.concat([pd.isnull(df).sum(), 100 * pd.isnull(df).mean()], axis=1)\n",
        "missing.columns=['count', '%']\n",
        "missing.sort_values(by=['count'])"
      ],
      "metadata": {
        "colab": {
          "base_uri": "https://localhost:8080/",
          "height": 1000
        },
        "id": "dWmVc3lj8FI2",
        "outputId": "56949854-42a8-4c40-95c4-084b5c8df816"
      },
      "execution_count": null,
      "outputs": [
        {
          "output_type": "execute_result",
          "data": {
            "text/plain": [
              "                                  count          %\n",
              "diameter                              0   0.000000\n",
              "mean_motion(deg/d)                    0   0.000000\n",
              "class                                 0   0.000000\n",
              "earth_min_oribit_inter_dist(au)       0   0.000000\n",
              "orbital_period(d)                     0   0.000000\n",
              "physically_hazardous_asteroid         0   0.000000\n",
              "near_earth_obj                        0   0.000000\n",
              "n_obs_used                            0   0.000000\n",
              "condition_code                        0   0.000000\n",
              "mean_anomaly(deg)                     0   0.000000\n",
              "orbital_period                        0   0.000000\n",
              "aphelion_dist(au)                     0   0.000000\n",
              "perihelion_dist(au)                   0   0.000000\n",
              "argument_perihelion                   0   0.000000\n",
              "longitude_asc_node                    0   0.000000\n",
              "semi-major_axis(au)                   0   0.000000\n",
              "eccentricity                          0   0.000000\n",
              "x-y_inclination(deg)                  0   0.000000\n",
              "data_arc(d)                         138   0.100264\n",
              "abs_mag_para                        747   0.542736\n",
              "geo_albedo                         1230   0.893662\n",
              "obj_name                         122512  89.011596\n",
              "rot_per(h)                       126448  91.871313\n",
              "SMASSII_spec_tax_type            136266  99.004621\n",
              "bv_color_mag_diff                136631  99.269813\n",
              "Tholen_spec_tax_type             136671  99.298875\n",
              "ub_color_mag_diff                136671  99.298875\n",
              "mag_slope_para                   137517  99.913540\n",
              "axial_ellipsoid_dim(Km)          137620  99.988375\n",
              "std_gravitational_para           137622  99.989828\n",
              "ir_color_mag_diff                137635  99.999273"
            ],
            "text/html": [
              "\n",
              "  <div id=\"df-5af3093e-e03b-4f58-9ef2-32d0f6e3c769\">\n",
              "    <div class=\"colab-df-container\">\n",
              "      <div>\n",
              "<style scoped>\n",
              "    .dataframe tbody tr th:only-of-type {\n",
              "        vertical-align: middle;\n",
              "    }\n",
              "\n",
              "    .dataframe tbody tr th {\n",
              "        vertical-align: top;\n",
              "    }\n",
              "\n",
              "    .dataframe thead th {\n",
              "        text-align: right;\n",
              "    }\n",
              "</style>\n",
              "<table border=\"1\" class=\"dataframe\">\n",
              "  <thead>\n",
              "    <tr style=\"text-align: right;\">\n",
              "      <th></th>\n",
              "      <th>count</th>\n",
              "      <th>%</th>\n",
              "    </tr>\n",
              "  </thead>\n",
              "  <tbody>\n",
              "    <tr>\n",
              "      <th>diameter</th>\n",
              "      <td>0</td>\n",
              "      <td>0.000000</td>\n",
              "    </tr>\n",
              "    <tr>\n",
              "      <th>mean_motion(deg/d)</th>\n",
              "      <td>0</td>\n",
              "      <td>0.000000</td>\n",
              "    </tr>\n",
              "    <tr>\n",
              "      <th>class</th>\n",
              "      <td>0</td>\n",
              "      <td>0.000000</td>\n",
              "    </tr>\n",
              "    <tr>\n",
              "      <th>earth_min_oribit_inter_dist(au)</th>\n",
              "      <td>0</td>\n",
              "      <td>0.000000</td>\n",
              "    </tr>\n",
              "    <tr>\n",
              "      <th>orbital_period(d)</th>\n",
              "      <td>0</td>\n",
              "      <td>0.000000</td>\n",
              "    </tr>\n",
              "    <tr>\n",
              "      <th>physically_hazardous_asteroid</th>\n",
              "      <td>0</td>\n",
              "      <td>0.000000</td>\n",
              "    </tr>\n",
              "    <tr>\n",
              "      <th>near_earth_obj</th>\n",
              "      <td>0</td>\n",
              "      <td>0.000000</td>\n",
              "    </tr>\n",
              "    <tr>\n",
              "      <th>n_obs_used</th>\n",
              "      <td>0</td>\n",
              "      <td>0.000000</td>\n",
              "    </tr>\n",
              "    <tr>\n",
              "      <th>condition_code</th>\n",
              "      <td>0</td>\n",
              "      <td>0.000000</td>\n",
              "    </tr>\n",
              "    <tr>\n",
              "      <th>mean_anomaly(deg)</th>\n",
              "      <td>0</td>\n",
              "      <td>0.000000</td>\n",
              "    </tr>\n",
              "    <tr>\n",
              "      <th>orbital_period</th>\n",
              "      <td>0</td>\n",
              "      <td>0.000000</td>\n",
              "    </tr>\n",
              "    <tr>\n",
              "      <th>aphelion_dist(au)</th>\n",
              "      <td>0</td>\n",
              "      <td>0.000000</td>\n",
              "    </tr>\n",
              "    <tr>\n",
              "      <th>perihelion_dist(au)</th>\n",
              "      <td>0</td>\n",
              "      <td>0.000000</td>\n",
              "    </tr>\n",
              "    <tr>\n",
              "      <th>argument_perihelion</th>\n",
              "      <td>0</td>\n",
              "      <td>0.000000</td>\n",
              "    </tr>\n",
              "    <tr>\n",
              "      <th>longitude_asc_node</th>\n",
              "      <td>0</td>\n",
              "      <td>0.000000</td>\n",
              "    </tr>\n",
              "    <tr>\n",
              "      <th>semi-major_axis(au)</th>\n",
              "      <td>0</td>\n",
              "      <td>0.000000</td>\n",
              "    </tr>\n",
              "    <tr>\n",
              "      <th>eccentricity</th>\n",
              "      <td>0</td>\n",
              "      <td>0.000000</td>\n",
              "    </tr>\n",
              "    <tr>\n",
              "      <th>x-y_inclination(deg)</th>\n",
              "      <td>0</td>\n",
              "      <td>0.000000</td>\n",
              "    </tr>\n",
              "    <tr>\n",
              "      <th>data_arc(d)</th>\n",
              "      <td>138</td>\n",
              "      <td>0.100264</td>\n",
              "    </tr>\n",
              "    <tr>\n",
              "      <th>abs_mag_para</th>\n",
              "      <td>747</td>\n",
              "      <td>0.542736</td>\n",
              "    </tr>\n",
              "    <tr>\n",
              "      <th>geo_albedo</th>\n",
              "      <td>1230</td>\n",
              "      <td>0.893662</td>\n",
              "    </tr>\n",
              "    <tr>\n",
              "      <th>obj_name</th>\n",
              "      <td>122512</td>\n",
              "      <td>89.011596</td>\n",
              "    </tr>\n",
              "    <tr>\n",
              "      <th>rot_per(h)</th>\n",
              "      <td>126448</td>\n",
              "      <td>91.871313</td>\n",
              "    </tr>\n",
              "    <tr>\n",
              "      <th>SMASSII_spec_tax_type</th>\n",
              "      <td>136266</td>\n",
              "      <td>99.004621</td>\n",
              "    </tr>\n",
              "    <tr>\n",
              "      <th>bv_color_mag_diff</th>\n",
              "      <td>136631</td>\n",
              "      <td>99.269813</td>\n",
              "    </tr>\n",
              "    <tr>\n",
              "      <th>Tholen_spec_tax_type</th>\n",
              "      <td>136671</td>\n",
              "      <td>99.298875</td>\n",
              "    </tr>\n",
              "    <tr>\n",
              "      <th>ub_color_mag_diff</th>\n",
              "      <td>136671</td>\n",
              "      <td>99.298875</td>\n",
              "    </tr>\n",
              "    <tr>\n",
              "      <th>mag_slope_para</th>\n",
              "      <td>137517</td>\n",
              "      <td>99.913540</td>\n",
              "    </tr>\n",
              "    <tr>\n",
              "      <th>axial_ellipsoid_dim(Km)</th>\n",
              "      <td>137620</td>\n",
              "      <td>99.988375</td>\n",
              "    </tr>\n",
              "    <tr>\n",
              "      <th>std_gravitational_para</th>\n",
              "      <td>137622</td>\n",
              "      <td>99.989828</td>\n",
              "    </tr>\n",
              "    <tr>\n",
              "      <th>ir_color_mag_diff</th>\n",
              "      <td>137635</td>\n",
              "      <td>99.999273</td>\n",
              "    </tr>\n",
              "  </tbody>\n",
              "</table>\n",
              "</div>\n",
              "      <button class=\"colab-df-convert\" onclick=\"convertToInteractive('df-5af3093e-e03b-4f58-9ef2-32d0f6e3c769')\"\n",
              "              title=\"Convert this dataframe to an interactive table.\"\n",
              "              style=\"display:none;\">\n",
              "        \n",
              "  <svg xmlns=\"http://www.w3.org/2000/svg\" height=\"24px\"viewBox=\"0 0 24 24\"\n",
              "       width=\"24px\">\n",
              "    <path d=\"M0 0h24v24H0V0z\" fill=\"none\"/>\n",
              "    <path d=\"M18.56 5.44l.94 2.06.94-2.06 2.06-.94-2.06-.94-.94-2.06-.94 2.06-2.06.94zm-11 1L8.5 8.5l.94-2.06 2.06-.94-2.06-.94L8.5 2.5l-.94 2.06-2.06.94zm10 10l.94 2.06.94-2.06 2.06-.94-2.06-.94-.94-2.06-.94 2.06-2.06.94z\"/><path d=\"M17.41 7.96l-1.37-1.37c-.4-.4-.92-.59-1.43-.59-.52 0-1.04.2-1.43.59L10.3 9.45l-7.72 7.72c-.78.78-.78 2.05 0 2.83L4 21.41c.39.39.9.59 1.41.59.51 0 1.02-.2 1.41-.59l7.78-7.78 2.81-2.81c.8-.78.8-2.07 0-2.86zM5.41 20L4 18.59l7.72-7.72 1.47 1.35L5.41 20z\"/>\n",
              "  </svg>\n",
              "      </button>\n",
              "      \n",
              "  <style>\n",
              "    .colab-df-container {\n",
              "      display:flex;\n",
              "      flex-wrap:wrap;\n",
              "      gap: 12px;\n",
              "    }\n",
              "\n",
              "    .colab-df-convert {\n",
              "      background-color: #E8F0FE;\n",
              "      border: none;\n",
              "      border-radius: 50%;\n",
              "      cursor: pointer;\n",
              "      display: none;\n",
              "      fill: #1967D2;\n",
              "      height: 32px;\n",
              "      padding: 0 0 0 0;\n",
              "      width: 32px;\n",
              "    }\n",
              "\n",
              "    .colab-df-convert:hover {\n",
              "      background-color: #E2EBFA;\n",
              "      box-shadow: 0px 1px 2px rgba(60, 64, 67, 0.3), 0px 1px 3px 1px rgba(60, 64, 67, 0.15);\n",
              "      fill: #174EA6;\n",
              "    }\n",
              "\n",
              "    [theme=dark] .colab-df-convert {\n",
              "      background-color: #3B4455;\n",
              "      fill: #D2E3FC;\n",
              "    }\n",
              "\n",
              "    [theme=dark] .colab-df-convert:hover {\n",
              "      background-color: #434B5C;\n",
              "      box-shadow: 0px 1px 3px 1px rgba(0, 0, 0, 0.15);\n",
              "      filter: drop-shadow(0px 1px 2px rgba(0, 0, 0, 0.3));\n",
              "      fill: #FFFFFF;\n",
              "    }\n",
              "  </style>\n",
              "\n",
              "      <script>\n",
              "        const buttonEl =\n",
              "          document.querySelector('#df-5af3093e-e03b-4f58-9ef2-32d0f6e3c769 button.colab-df-convert');\n",
              "        buttonEl.style.display =\n",
              "          google.colab.kernel.accessAllowed ? 'block' : 'none';\n",
              "\n",
              "        async function convertToInteractive(key) {\n",
              "          const element = document.querySelector('#df-5af3093e-e03b-4f58-9ef2-32d0f6e3c769');\n",
              "          const dataTable =\n",
              "            await google.colab.kernel.invokeFunction('convertToInteractive',\n",
              "                                                     [key], {});\n",
              "          if (!dataTable) return;\n",
              "\n",
              "          const docLinkHtml = 'Like what you see? Visit the ' +\n",
              "            '<a target=\"_blank\" href=https://colab.research.google.com/notebooks/data_table.ipynb>data table notebook</a>'\n",
              "            + ' to learn more about interactive tables.';\n",
              "          element.innerHTML = '';\n",
              "          dataTable['output_type'] = 'display_data';\n",
              "          await google.colab.output.renderOutput(dataTable, element);\n",
              "          const docLink = document.createElement('div');\n",
              "          docLink.innerHTML = docLinkHtml;\n",
              "          element.appendChild(docLink);\n",
              "        }\n",
              "      </script>\n",
              "    </div>\n",
              "  </div>\n",
              "  "
            ]
          },
          "metadata": {},
          "execution_count": 12
        }
      ]
    },
    {
      "cell_type": "code",
      "source": [
        "#Even after removing the missing diameter rows, there are still columns with more than half their values missing. These columns should be removed.\n",
        "#List of columns to drop.\n",
        "drop_list = ['rot_per(h)','SMASSII_spec_tax_type','obj_name',\n",
        "             'bv_color_mag_diff','Tholen_spec_tax_type','ub_color_mag_diff','mag_slope_para',\n",
        "             'axial_ellipsoid_dim(Km)','std_gravitational_para','ir_color_mag_diff']\n",
        "df.drop(drop_list, axis=1, inplace=True)            "
      ],
      "metadata": {
        "id": "IDNGvHE28FD_"
      },
      "execution_count": null,
      "outputs": []
    },
    {
      "cell_type": "code",
      "source": [
        "df.shape"
      ],
      "metadata": {
        "colab": {
          "base_uri": "https://localhost:8080/"
        },
        "id": "c1rWD1bt8E7t",
        "outputId": "fcbfdafb-950e-43d7-f6ad-2f82cafc7cb8"
      },
      "execution_count": null,
      "outputs": [
        {
          "output_type": "execute_result",
          "data": {
            "text/plain": [
              "(137636, 21)"
            ]
          },
          "metadata": {},
          "execution_count": 14
        }
      ]
    },
    {
      "cell_type": "code",
      "source": [
        "#Missing values percentages at column level.\n",
        "missing= pd.concat([pd.isnull(df).sum(), 100 * pd.isnull(df).mean()], axis=1)\n",
        "missing.columns=['count', '%']\n",
        "missing.sort_values(by=['count'])"
      ],
      "metadata": {
        "colab": {
          "base_uri": "https://localhost:8080/",
          "height": 708
        },
        "id": "sN3iXF528E2t",
        "outputId": "f8a89231-2078-4b78-ccf9-8d40ff3fe244"
      },
      "execution_count": null,
      "outputs": [
        {
          "output_type": "execute_result",
          "data": {
            "text/plain": [
              "                                 count         %\n",
              "semi-major_axis(au)                  0  0.000000\n",
              "mean_motion(deg/d)                   0  0.000000\n",
              "class                                0  0.000000\n",
              "earth_min_oribit_inter_dist(au)      0  0.000000\n",
              "diameter                             0  0.000000\n",
              "physically_hazardous_asteroid        0  0.000000\n",
              "near_earth_obj                       0  0.000000\n",
              "orbital_period(d)                    0  0.000000\n",
              "condition_code                       0  0.000000\n",
              "n_obs_used                           0  0.000000\n",
              "orbital_period                       0  0.000000\n",
              "aphelion_dist(au)                    0  0.000000\n",
              "perihelion_dist(au)                  0  0.000000\n",
              "argument_perihelion                  0  0.000000\n",
              "longitude_asc_node                   0  0.000000\n",
              "x-y_inclination(deg)                 0  0.000000\n",
              "eccentricity                         0  0.000000\n",
              "mean_anomaly(deg)                    0  0.000000\n",
              "data_arc(d)                        138  0.100264\n",
              "abs_mag_para                       747  0.542736\n",
              "geo_albedo                        1230  0.893662"
            ],
            "text/html": [
              "\n",
              "  <div id=\"df-687cd5cf-5b8a-46fa-b140-4ee47eee0b17\">\n",
              "    <div class=\"colab-df-container\">\n",
              "      <div>\n",
              "<style scoped>\n",
              "    .dataframe tbody tr th:only-of-type {\n",
              "        vertical-align: middle;\n",
              "    }\n",
              "\n",
              "    .dataframe tbody tr th {\n",
              "        vertical-align: top;\n",
              "    }\n",
              "\n",
              "    .dataframe thead th {\n",
              "        text-align: right;\n",
              "    }\n",
              "</style>\n",
              "<table border=\"1\" class=\"dataframe\">\n",
              "  <thead>\n",
              "    <tr style=\"text-align: right;\">\n",
              "      <th></th>\n",
              "      <th>count</th>\n",
              "      <th>%</th>\n",
              "    </tr>\n",
              "  </thead>\n",
              "  <tbody>\n",
              "    <tr>\n",
              "      <th>semi-major_axis(au)</th>\n",
              "      <td>0</td>\n",
              "      <td>0.000000</td>\n",
              "    </tr>\n",
              "    <tr>\n",
              "      <th>mean_motion(deg/d)</th>\n",
              "      <td>0</td>\n",
              "      <td>0.000000</td>\n",
              "    </tr>\n",
              "    <tr>\n",
              "      <th>class</th>\n",
              "      <td>0</td>\n",
              "      <td>0.000000</td>\n",
              "    </tr>\n",
              "    <tr>\n",
              "      <th>earth_min_oribit_inter_dist(au)</th>\n",
              "      <td>0</td>\n",
              "      <td>0.000000</td>\n",
              "    </tr>\n",
              "    <tr>\n",
              "      <th>diameter</th>\n",
              "      <td>0</td>\n",
              "      <td>0.000000</td>\n",
              "    </tr>\n",
              "    <tr>\n",
              "      <th>physically_hazardous_asteroid</th>\n",
              "      <td>0</td>\n",
              "      <td>0.000000</td>\n",
              "    </tr>\n",
              "    <tr>\n",
              "      <th>near_earth_obj</th>\n",
              "      <td>0</td>\n",
              "      <td>0.000000</td>\n",
              "    </tr>\n",
              "    <tr>\n",
              "      <th>orbital_period(d)</th>\n",
              "      <td>0</td>\n",
              "      <td>0.000000</td>\n",
              "    </tr>\n",
              "    <tr>\n",
              "      <th>condition_code</th>\n",
              "      <td>0</td>\n",
              "      <td>0.000000</td>\n",
              "    </tr>\n",
              "    <tr>\n",
              "      <th>n_obs_used</th>\n",
              "      <td>0</td>\n",
              "      <td>0.000000</td>\n",
              "    </tr>\n",
              "    <tr>\n",
              "      <th>orbital_period</th>\n",
              "      <td>0</td>\n",
              "      <td>0.000000</td>\n",
              "    </tr>\n",
              "    <tr>\n",
              "      <th>aphelion_dist(au)</th>\n",
              "      <td>0</td>\n",
              "      <td>0.000000</td>\n",
              "    </tr>\n",
              "    <tr>\n",
              "      <th>perihelion_dist(au)</th>\n",
              "      <td>0</td>\n",
              "      <td>0.000000</td>\n",
              "    </tr>\n",
              "    <tr>\n",
              "      <th>argument_perihelion</th>\n",
              "      <td>0</td>\n",
              "      <td>0.000000</td>\n",
              "    </tr>\n",
              "    <tr>\n",
              "      <th>longitude_asc_node</th>\n",
              "      <td>0</td>\n",
              "      <td>0.000000</td>\n",
              "    </tr>\n",
              "    <tr>\n",
              "      <th>x-y_inclination(deg)</th>\n",
              "      <td>0</td>\n",
              "      <td>0.000000</td>\n",
              "    </tr>\n",
              "    <tr>\n",
              "      <th>eccentricity</th>\n",
              "      <td>0</td>\n",
              "      <td>0.000000</td>\n",
              "    </tr>\n",
              "    <tr>\n",
              "      <th>mean_anomaly(deg)</th>\n",
              "      <td>0</td>\n",
              "      <td>0.000000</td>\n",
              "    </tr>\n",
              "    <tr>\n",
              "      <th>data_arc(d)</th>\n",
              "      <td>138</td>\n",
              "      <td>0.100264</td>\n",
              "    </tr>\n",
              "    <tr>\n",
              "      <th>abs_mag_para</th>\n",
              "      <td>747</td>\n",
              "      <td>0.542736</td>\n",
              "    </tr>\n",
              "    <tr>\n",
              "      <th>geo_albedo</th>\n",
              "      <td>1230</td>\n",
              "      <td>0.893662</td>\n",
              "    </tr>\n",
              "  </tbody>\n",
              "</table>\n",
              "</div>\n",
              "      <button class=\"colab-df-convert\" onclick=\"convertToInteractive('df-687cd5cf-5b8a-46fa-b140-4ee47eee0b17')\"\n",
              "              title=\"Convert this dataframe to an interactive table.\"\n",
              "              style=\"display:none;\">\n",
              "        \n",
              "  <svg xmlns=\"http://www.w3.org/2000/svg\" height=\"24px\"viewBox=\"0 0 24 24\"\n",
              "       width=\"24px\">\n",
              "    <path d=\"M0 0h24v24H0V0z\" fill=\"none\"/>\n",
              "    <path d=\"M18.56 5.44l.94 2.06.94-2.06 2.06-.94-2.06-.94-.94-2.06-.94 2.06-2.06.94zm-11 1L8.5 8.5l.94-2.06 2.06-.94-2.06-.94L8.5 2.5l-.94 2.06-2.06.94zm10 10l.94 2.06.94-2.06 2.06-.94-2.06-.94-.94-2.06-.94 2.06-2.06.94z\"/><path d=\"M17.41 7.96l-1.37-1.37c-.4-.4-.92-.59-1.43-.59-.52 0-1.04.2-1.43.59L10.3 9.45l-7.72 7.72c-.78.78-.78 2.05 0 2.83L4 21.41c.39.39.9.59 1.41.59.51 0 1.02-.2 1.41-.59l7.78-7.78 2.81-2.81c.8-.78.8-2.07 0-2.86zM5.41 20L4 18.59l7.72-7.72 1.47 1.35L5.41 20z\"/>\n",
              "  </svg>\n",
              "      </button>\n",
              "      \n",
              "  <style>\n",
              "    .colab-df-container {\n",
              "      display:flex;\n",
              "      flex-wrap:wrap;\n",
              "      gap: 12px;\n",
              "    }\n",
              "\n",
              "    .colab-df-convert {\n",
              "      background-color: #E8F0FE;\n",
              "      border: none;\n",
              "      border-radius: 50%;\n",
              "      cursor: pointer;\n",
              "      display: none;\n",
              "      fill: #1967D2;\n",
              "      height: 32px;\n",
              "      padding: 0 0 0 0;\n",
              "      width: 32px;\n",
              "    }\n",
              "\n",
              "    .colab-df-convert:hover {\n",
              "      background-color: #E2EBFA;\n",
              "      box-shadow: 0px 1px 2px rgba(60, 64, 67, 0.3), 0px 1px 3px 1px rgba(60, 64, 67, 0.15);\n",
              "      fill: #174EA6;\n",
              "    }\n",
              "\n",
              "    [theme=dark] .colab-df-convert {\n",
              "      background-color: #3B4455;\n",
              "      fill: #D2E3FC;\n",
              "    }\n",
              "\n",
              "    [theme=dark] .colab-df-convert:hover {\n",
              "      background-color: #434B5C;\n",
              "      box-shadow: 0px 1px 3px 1px rgba(0, 0, 0, 0.15);\n",
              "      filter: drop-shadow(0px 1px 2px rgba(0, 0, 0, 0.3));\n",
              "      fill: #FFFFFF;\n",
              "    }\n",
              "  </style>\n",
              "\n",
              "      <script>\n",
              "        const buttonEl =\n",
              "          document.querySelector('#df-687cd5cf-5b8a-46fa-b140-4ee47eee0b17 button.colab-df-convert');\n",
              "        buttonEl.style.display =\n",
              "          google.colab.kernel.accessAllowed ? 'block' : 'none';\n",
              "\n",
              "        async function convertToInteractive(key) {\n",
              "          const element = document.querySelector('#df-687cd5cf-5b8a-46fa-b140-4ee47eee0b17');\n",
              "          const dataTable =\n",
              "            await google.colab.kernel.invokeFunction('convertToInteractive',\n",
              "                                                     [key], {});\n",
              "          if (!dataTable) return;\n",
              "\n",
              "          const docLinkHtml = 'Like what you see? Visit the ' +\n",
              "            '<a target=\"_blank\" href=https://colab.research.google.com/notebooks/data_table.ipynb>data table notebook</a>'\n",
              "            + ' to learn more about interactive tables.';\n",
              "          element.innerHTML = '';\n",
              "          dataTable['output_type'] = 'display_data';\n",
              "          await google.colab.output.renderOutput(dataTable, element);\n",
              "          const docLink = document.createElement('div');\n",
              "          docLink.innerHTML = docLinkHtml;\n",
              "          element.appendChild(docLink);\n",
              "        }\n",
              "      </script>\n",
              "    </div>\n",
              "  </div>\n",
              "  "
            ]
          },
          "metadata": {},
          "execution_count": 15
        }
      ]
    },
    {
      "cell_type": "code",
      "source": [
        "# Filling the misssing values with mean of the feature...\n",
        "df['data_arc(d)'] = df['data_arc(d)'].fillna((df['data_arc(d)'].mean()))"
      ],
      "metadata": {
        "id": "weqyHKhF8Ev1"
      },
      "execution_count": null,
      "outputs": []
    },
    {
      "cell_type": "code",
      "source": [
        "df['abs_mag_para'] = df['abs_mag_para'].fillna((df['abs_mag_para'].mean()))"
      ],
      "metadata": {
        "id": "dZ3CNSRL9xVO"
      },
      "execution_count": null,
      "outputs": []
    },
    {
      "cell_type": "code",
      "source": [
        "df['geo_albedo'] = df['geo_albedo'].fillna((df['geo_albedo'].mean()))"
      ],
      "metadata": {
        "id": "V0oL6PDU9xOl"
      },
      "execution_count": null,
      "outputs": []
    },
    {
      "cell_type": "code",
      "source": [
        "#Missing values percentages at column level.\n",
        "missing= pd.concat([pd.isnull(df).sum(), 100 * pd.isnull(df).mean()], axis=1)\n",
        "missing.columns=['count', '%']\n",
        "missing.sort_values(by=['count'])"
      ],
      "metadata": {
        "colab": {
          "base_uri": "https://localhost:8080/",
          "height": 708
        },
        "id": "8o5UH49f-DG9",
        "outputId": "664d3a44-b91c-451e-ac8f-849c43334fa5"
      },
      "execution_count": null,
      "outputs": [
        {
          "output_type": "execute_result",
          "data": {
            "text/plain": [
              "                                 count    %\n",
              "semi-major_axis(au)                  0  0.0\n",
              "mean_motion(deg/d)                   0  0.0\n",
              "class                                0  0.0\n",
              "earth_min_oribit_inter_dist(au)      0  0.0\n",
              "geo_albedo                           0  0.0\n",
              "diameter                             0  0.0\n",
              "physically_hazardous_asteroid        0  0.0\n",
              "near_earth_obj                       0  0.0\n",
              "abs_mag_para                         0  0.0\n",
              "orbital_period(d)                    0  0.0\n",
              "n_obs_used                           0  0.0\n",
              "data_arc(d)                          0  0.0\n",
              "orbital_period                       0  0.0\n",
              "aphelion_dist(au)                    0  0.0\n",
              "perihelion_dist(au)                  0  0.0\n",
              "argument_perihelion                  0  0.0\n",
              "longitude_asc_node                   0  0.0\n",
              "x-y_inclination(deg)                 0  0.0\n",
              "eccentricity                         0  0.0\n",
              "condition_code                       0  0.0\n",
              "mean_anomaly(deg)                    0  0.0"
            ],
            "text/html": [
              "\n",
              "  <div id=\"df-e04de7b8-47f9-4e2a-a6f4-ce4e79bbf052\">\n",
              "    <div class=\"colab-df-container\">\n",
              "      <div>\n",
              "<style scoped>\n",
              "    .dataframe tbody tr th:only-of-type {\n",
              "        vertical-align: middle;\n",
              "    }\n",
              "\n",
              "    .dataframe tbody tr th {\n",
              "        vertical-align: top;\n",
              "    }\n",
              "\n",
              "    .dataframe thead th {\n",
              "        text-align: right;\n",
              "    }\n",
              "</style>\n",
              "<table border=\"1\" class=\"dataframe\">\n",
              "  <thead>\n",
              "    <tr style=\"text-align: right;\">\n",
              "      <th></th>\n",
              "      <th>count</th>\n",
              "      <th>%</th>\n",
              "    </tr>\n",
              "  </thead>\n",
              "  <tbody>\n",
              "    <tr>\n",
              "      <th>semi-major_axis(au)</th>\n",
              "      <td>0</td>\n",
              "      <td>0.0</td>\n",
              "    </tr>\n",
              "    <tr>\n",
              "      <th>mean_motion(deg/d)</th>\n",
              "      <td>0</td>\n",
              "      <td>0.0</td>\n",
              "    </tr>\n",
              "    <tr>\n",
              "      <th>class</th>\n",
              "      <td>0</td>\n",
              "      <td>0.0</td>\n",
              "    </tr>\n",
              "    <tr>\n",
              "      <th>earth_min_oribit_inter_dist(au)</th>\n",
              "      <td>0</td>\n",
              "      <td>0.0</td>\n",
              "    </tr>\n",
              "    <tr>\n",
              "      <th>geo_albedo</th>\n",
              "      <td>0</td>\n",
              "      <td>0.0</td>\n",
              "    </tr>\n",
              "    <tr>\n",
              "      <th>diameter</th>\n",
              "      <td>0</td>\n",
              "      <td>0.0</td>\n",
              "    </tr>\n",
              "    <tr>\n",
              "      <th>physically_hazardous_asteroid</th>\n",
              "      <td>0</td>\n",
              "      <td>0.0</td>\n",
              "    </tr>\n",
              "    <tr>\n",
              "      <th>near_earth_obj</th>\n",
              "      <td>0</td>\n",
              "      <td>0.0</td>\n",
              "    </tr>\n",
              "    <tr>\n",
              "      <th>abs_mag_para</th>\n",
              "      <td>0</td>\n",
              "      <td>0.0</td>\n",
              "    </tr>\n",
              "    <tr>\n",
              "      <th>orbital_period(d)</th>\n",
              "      <td>0</td>\n",
              "      <td>0.0</td>\n",
              "    </tr>\n",
              "    <tr>\n",
              "      <th>n_obs_used</th>\n",
              "      <td>0</td>\n",
              "      <td>0.0</td>\n",
              "    </tr>\n",
              "    <tr>\n",
              "      <th>data_arc(d)</th>\n",
              "      <td>0</td>\n",
              "      <td>0.0</td>\n",
              "    </tr>\n",
              "    <tr>\n",
              "      <th>orbital_period</th>\n",
              "      <td>0</td>\n",
              "      <td>0.0</td>\n",
              "    </tr>\n",
              "    <tr>\n",
              "      <th>aphelion_dist(au)</th>\n",
              "      <td>0</td>\n",
              "      <td>0.0</td>\n",
              "    </tr>\n",
              "    <tr>\n",
              "      <th>perihelion_dist(au)</th>\n",
              "      <td>0</td>\n",
              "      <td>0.0</td>\n",
              "    </tr>\n",
              "    <tr>\n",
              "      <th>argument_perihelion</th>\n",
              "      <td>0</td>\n",
              "      <td>0.0</td>\n",
              "    </tr>\n",
              "    <tr>\n",
              "      <th>longitude_asc_node</th>\n",
              "      <td>0</td>\n",
              "      <td>0.0</td>\n",
              "    </tr>\n",
              "    <tr>\n",
              "      <th>x-y_inclination(deg)</th>\n",
              "      <td>0</td>\n",
              "      <td>0.0</td>\n",
              "    </tr>\n",
              "    <tr>\n",
              "      <th>eccentricity</th>\n",
              "      <td>0</td>\n",
              "      <td>0.0</td>\n",
              "    </tr>\n",
              "    <tr>\n",
              "      <th>condition_code</th>\n",
              "      <td>0</td>\n",
              "      <td>0.0</td>\n",
              "    </tr>\n",
              "    <tr>\n",
              "      <th>mean_anomaly(deg)</th>\n",
              "      <td>0</td>\n",
              "      <td>0.0</td>\n",
              "    </tr>\n",
              "  </tbody>\n",
              "</table>\n",
              "</div>\n",
              "      <button class=\"colab-df-convert\" onclick=\"convertToInteractive('df-e04de7b8-47f9-4e2a-a6f4-ce4e79bbf052')\"\n",
              "              title=\"Convert this dataframe to an interactive table.\"\n",
              "              style=\"display:none;\">\n",
              "        \n",
              "  <svg xmlns=\"http://www.w3.org/2000/svg\" height=\"24px\"viewBox=\"0 0 24 24\"\n",
              "       width=\"24px\">\n",
              "    <path d=\"M0 0h24v24H0V0z\" fill=\"none\"/>\n",
              "    <path d=\"M18.56 5.44l.94 2.06.94-2.06 2.06-.94-2.06-.94-.94-2.06-.94 2.06-2.06.94zm-11 1L8.5 8.5l.94-2.06 2.06-.94-2.06-.94L8.5 2.5l-.94 2.06-2.06.94zm10 10l.94 2.06.94-2.06 2.06-.94-2.06-.94-.94-2.06-.94 2.06-2.06.94z\"/><path d=\"M17.41 7.96l-1.37-1.37c-.4-.4-.92-.59-1.43-.59-.52 0-1.04.2-1.43.59L10.3 9.45l-7.72 7.72c-.78.78-.78 2.05 0 2.83L4 21.41c.39.39.9.59 1.41.59.51 0 1.02-.2 1.41-.59l7.78-7.78 2.81-2.81c.8-.78.8-2.07 0-2.86zM5.41 20L4 18.59l7.72-7.72 1.47 1.35L5.41 20z\"/>\n",
              "  </svg>\n",
              "      </button>\n",
              "      \n",
              "  <style>\n",
              "    .colab-df-container {\n",
              "      display:flex;\n",
              "      flex-wrap:wrap;\n",
              "      gap: 12px;\n",
              "    }\n",
              "\n",
              "    .colab-df-convert {\n",
              "      background-color: #E8F0FE;\n",
              "      border: none;\n",
              "      border-radius: 50%;\n",
              "      cursor: pointer;\n",
              "      display: none;\n",
              "      fill: #1967D2;\n",
              "      height: 32px;\n",
              "      padding: 0 0 0 0;\n",
              "      width: 32px;\n",
              "    }\n",
              "\n",
              "    .colab-df-convert:hover {\n",
              "      background-color: #E2EBFA;\n",
              "      box-shadow: 0px 1px 2px rgba(60, 64, 67, 0.3), 0px 1px 3px 1px rgba(60, 64, 67, 0.15);\n",
              "      fill: #174EA6;\n",
              "    }\n",
              "\n",
              "    [theme=dark] .colab-df-convert {\n",
              "      background-color: #3B4455;\n",
              "      fill: #D2E3FC;\n",
              "    }\n",
              "\n",
              "    [theme=dark] .colab-df-convert:hover {\n",
              "      background-color: #434B5C;\n",
              "      box-shadow: 0px 1px 3px 1px rgba(0, 0, 0, 0.15);\n",
              "      filter: drop-shadow(0px 1px 2px rgba(0, 0, 0, 0.3));\n",
              "      fill: #FFFFFF;\n",
              "    }\n",
              "  </style>\n",
              "\n",
              "      <script>\n",
              "        const buttonEl =\n",
              "          document.querySelector('#df-e04de7b8-47f9-4e2a-a6f4-ce4e79bbf052 button.colab-df-convert');\n",
              "        buttonEl.style.display =\n",
              "          google.colab.kernel.accessAllowed ? 'block' : 'none';\n",
              "\n",
              "        async function convertToInteractive(key) {\n",
              "          const element = document.querySelector('#df-e04de7b8-47f9-4e2a-a6f4-ce4e79bbf052');\n",
              "          const dataTable =\n",
              "            await google.colab.kernel.invokeFunction('convertToInteractive',\n",
              "                                                     [key], {});\n",
              "          if (!dataTable) return;\n",
              "\n",
              "          const docLinkHtml = 'Like what you see? Visit the ' +\n",
              "            '<a target=\"_blank\" href=https://colab.research.google.com/notebooks/data_table.ipynb>data table notebook</a>'\n",
              "            + ' to learn more about interactive tables.';\n",
              "          element.innerHTML = '';\n",
              "          dataTable['output_type'] = 'display_data';\n",
              "          await google.colab.output.renderOutput(dataTable, element);\n",
              "          const docLink = document.createElement('div');\n",
              "          docLink.innerHTML = docLinkHtml;\n",
              "          element.appendChild(docLink);\n",
              "        }\n",
              "      </script>\n",
              "    </div>\n",
              "  </div>\n",
              "  "
            ]
          },
          "metadata": {},
          "execution_count": 19
        }
      ]
    },
    {
      "cell_type": "code",
      "source": [
        "df.dtypes"
      ],
      "metadata": {
        "colab": {
          "base_uri": "https://localhost:8080/"
        },
        "id": "9xIcYmK1-DE9",
        "outputId": "299fb0d9-2733-4901-b638-00a4ea92f71b"
      },
      "execution_count": null,
      "outputs": [
        {
          "output_type": "execute_result",
          "data": {
            "text/plain": [
              "semi-major_axis(au)                float64\n",
              "eccentricity                       float64\n",
              "x-y_inclination(deg)               float64\n",
              "longitude_asc_node                 float64\n",
              "argument_perihelion                float64\n",
              "perihelion_dist(au)                float64\n",
              "aphelion_dist(au)                  float64\n",
              "orbital_period                     float64\n",
              "data_arc(d)                        float64\n",
              "condition_code                      object\n",
              "n_obs_used                           int64\n",
              "abs_mag_para                       float64\n",
              "near_earth_obj                      object\n",
              "physically_hazardous_asteroid       object\n",
              "diameter                            object\n",
              "geo_albedo                         float64\n",
              "earth_min_oribit_inter_dist(au)    float64\n",
              "class                               object\n",
              "mean_motion(deg/d)                 float64\n",
              "orbital_period(d)                  float64\n",
              "mean_anomaly(deg)                  float64\n",
              "dtype: object"
            ]
          },
          "metadata": {},
          "execution_count": 20
        }
      ]
    },
    {
      "cell_type": "code",
      "source": [
        "# Bringing in 'Object' features\n",
        "df.select_dtypes('object').tail()"
      ],
      "metadata": {
        "colab": {
          "base_uri": "https://localhost:8080/",
          "height": 270
        },
        "id": "Cq73b8e3-DCV",
        "outputId": "c731519a-f171-4f48-d1a8-5922879fb3ed"
      },
      "execution_count": null,
      "outputs": [
        {
          "output_type": "execute_result",
          "data": {
            "text/plain": [
              "       condition_code near_earth_obj physically_hazardous_asteroid diameter  \\\n",
              "797860              1              N                             N    3.793   \n",
              "798077              2              N                             N    2.696   \n",
              "798189              1              N                             N    2.917   \n",
              "799752              2              N                             N    3.271   \n",
              "810375              3              N                             N      1.6   \n",
              "\n",
              "       class  \n",
              "797860   MBA  \n",
              "798077   MBA  \n",
              "798189   MBA  \n",
              "799752   MBA  \n",
              "810375   MBA  "
            ],
            "text/html": [
              "\n",
              "  <div id=\"df-3a666341-4bd8-4c6c-909b-4e81f94ed890\">\n",
              "    <div class=\"colab-df-container\">\n",
              "      <div>\n",
              "<style scoped>\n",
              "    .dataframe tbody tr th:only-of-type {\n",
              "        vertical-align: middle;\n",
              "    }\n",
              "\n",
              "    .dataframe tbody tr th {\n",
              "        vertical-align: top;\n",
              "    }\n",
              "\n",
              "    .dataframe thead th {\n",
              "        text-align: right;\n",
              "    }\n",
              "</style>\n",
              "<table border=\"1\" class=\"dataframe\">\n",
              "  <thead>\n",
              "    <tr style=\"text-align: right;\">\n",
              "      <th></th>\n",
              "      <th>condition_code</th>\n",
              "      <th>near_earth_obj</th>\n",
              "      <th>physically_hazardous_asteroid</th>\n",
              "      <th>diameter</th>\n",
              "      <th>class</th>\n",
              "    </tr>\n",
              "  </thead>\n",
              "  <tbody>\n",
              "    <tr>\n",
              "      <th>797860</th>\n",
              "      <td>1</td>\n",
              "      <td>N</td>\n",
              "      <td>N</td>\n",
              "      <td>3.793</td>\n",
              "      <td>MBA</td>\n",
              "    </tr>\n",
              "    <tr>\n",
              "      <th>798077</th>\n",
              "      <td>2</td>\n",
              "      <td>N</td>\n",
              "      <td>N</td>\n",
              "      <td>2.696</td>\n",
              "      <td>MBA</td>\n",
              "    </tr>\n",
              "    <tr>\n",
              "      <th>798189</th>\n",
              "      <td>1</td>\n",
              "      <td>N</td>\n",
              "      <td>N</td>\n",
              "      <td>2.917</td>\n",
              "      <td>MBA</td>\n",
              "    </tr>\n",
              "    <tr>\n",
              "      <th>799752</th>\n",
              "      <td>2</td>\n",
              "      <td>N</td>\n",
              "      <td>N</td>\n",
              "      <td>3.271</td>\n",
              "      <td>MBA</td>\n",
              "    </tr>\n",
              "    <tr>\n",
              "      <th>810375</th>\n",
              "      <td>3</td>\n",
              "      <td>N</td>\n",
              "      <td>N</td>\n",
              "      <td>1.6</td>\n",
              "      <td>MBA</td>\n",
              "    </tr>\n",
              "  </tbody>\n",
              "</table>\n",
              "</div>\n",
              "      <button class=\"colab-df-convert\" onclick=\"convertToInteractive('df-3a666341-4bd8-4c6c-909b-4e81f94ed890')\"\n",
              "              title=\"Convert this dataframe to an interactive table.\"\n",
              "              style=\"display:none;\">\n",
              "        \n",
              "  <svg xmlns=\"http://www.w3.org/2000/svg\" height=\"24px\"viewBox=\"0 0 24 24\"\n",
              "       width=\"24px\">\n",
              "    <path d=\"M0 0h24v24H0V0z\" fill=\"none\"/>\n",
              "    <path d=\"M18.56 5.44l.94 2.06.94-2.06 2.06-.94-2.06-.94-.94-2.06-.94 2.06-2.06.94zm-11 1L8.5 8.5l.94-2.06 2.06-.94-2.06-.94L8.5 2.5l-.94 2.06-2.06.94zm10 10l.94 2.06.94-2.06 2.06-.94-2.06-.94-.94-2.06-.94 2.06-2.06.94z\"/><path d=\"M17.41 7.96l-1.37-1.37c-.4-.4-.92-.59-1.43-.59-.52 0-1.04.2-1.43.59L10.3 9.45l-7.72 7.72c-.78.78-.78 2.05 0 2.83L4 21.41c.39.39.9.59 1.41.59.51 0 1.02-.2 1.41-.59l7.78-7.78 2.81-2.81c.8-.78.8-2.07 0-2.86zM5.41 20L4 18.59l7.72-7.72 1.47 1.35L5.41 20z\"/>\n",
              "  </svg>\n",
              "      </button>\n",
              "      \n",
              "  <style>\n",
              "    .colab-df-container {\n",
              "      display:flex;\n",
              "      flex-wrap:wrap;\n",
              "      gap: 12px;\n",
              "    }\n",
              "\n",
              "    .colab-df-convert {\n",
              "      background-color: #E8F0FE;\n",
              "      border: none;\n",
              "      border-radius: 50%;\n",
              "      cursor: pointer;\n",
              "      display: none;\n",
              "      fill: #1967D2;\n",
              "      height: 32px;\n",
              "      padding: 0 0 0 0;\n",
              "      width: 32px;\n",
              "    }\n",
              "\n",
              "    .colab-df-convert:hover {\n",
              "      background-color: #E2EBFA;\n",
              "      box-shadow: 0px 1px 2px rgba(60, 64, 67, 0.3), 0px 1px 3px 1px rgba(60, 64, 67, 0.15);\n",
              "      fill: #174EA6;\n",
              "    }\n",
              "\n",
              "    [theme=dark] .colab-df-convert {\n",
              "      background-color: #3B4455;\n",
              "      fill: #D2E3FC;\n",
              "    }\n",
              "\n",
              "    [theme=dark] .colab-df-convert:hover {\n",
              "      background-color: #434B5C;\n",
              "      box-shadow: 0px 1px 3px 1px rgba(0, 0, 0, 0.15);\n",
              "      filter: drop-shadow(0px 1px 2px rgba(0, 0, 0, 0.3));\n",
              "      fill: #FFFFFF;\n",
              "    }\n",
              "  </style>\n",
              "\n",
              "      <script>\n",
              "        const buttonEl =\n",
              "          document.querySelector('#df-3a666341-4bd8-4c6c-909b-4e81f94ed890 button.colab-df-convert');\n",
              "        buttonEl.style.display =\n",
              "          google.colab.kernel.accessAllowed ? 'block' : 'none';\n",
              "\n",
              "        async function convertToInteractive(key) {\n",
              "          const element = document.querySelector('#df-3a666341-4bd8-4c6c-909b-4e81f94ed890');\n",
              "          const dataTable =\n",
              "            await google.colab.kernel.invokeFunction('convertToInteractive',\n",
              "                                                     [key], {});\n",
              "          if (!dataTable) return;\n",
              "\n",
              "          const docLinkHtml = 'Like what you see? Visit the ' +\n",
              "            '<a target=\"_blank\" href=https://colab.research.google.com/notebooks/data_table.ipynb>data table notebook</a>'\n",
              "            + ' to learn more about interactive tables.';\n",
              "          element.innerHTML = '';\n",
              "          dataTable['output_type'] = 'display_data';\n",
              "          await google.colab.output.renderOutput(dataTable, element);\n",
              "          const docLink = document.createElement('div');\n",
              "          docLink.innerHTML = docLinkHtml;\n",
              "          element.appendChild(docLink);\n",
              "        }\n",
              "      </script>\n",
              "    </div>\n",
              "  </div>\n",
              "  "
            ]
          },
          "metadata": {},
          "execution_count": 21
        }
      ]
    },
    {
      "cell_type": "code",
      "source": [
        "df['diameter'].iloc[15]"
      ],
      "metadata": {
        "colab": {
          "base_uri": "https://localhost:8080/",
          "height": 36
        },
        "id": "H4epg0p0_d3I",
        "outputId": "057ead7b-f4af-4922-e722-7780266d1182"
      },
      "execution_count": null,
      "outputs": [
        {
          "output_type": "execute_result",
          "data": {
            "text/plain": [
              "'226\\u2009'"
            ],
            "application/vnd.google.colaboratory.intrinsic+json": {
              "type": "string"
            }
          },
          "metadata": {},
          "execution_count": 24
        }
      ]
    },
    {
      "cell_type": "code",
      "source": [
        "df['diameter'].iloc[14]"
      ],
      "metadata": {
        "id": "wqcrooi9_d0w",
        "colab": {
          "base_uri": "https://localhost:8080/",
          "height": 36
        },
        "outputId": "cc769ce8-c1d1-40ad-d9c7-a5d7e2f8e01e"
      },
      "execution_count": null,
      "outputs": [
        {
          "output_type": "execute_result",
          "data": {
            "text/plain": [
              "'231.689'"
            ],
            "application/vnd.google.colaboratory.intrinsic+json": {
              "type": "string"
            }
          },
          "metadata": {},
          "execution_count": 25
        }
      ]
    },
    {
      "cell_type": "code",
      "source": [
        "df.at[15,'diameter']=226"
      ],
      "metadata": {
        "id": "lgeaP52wXh_U"
      },
      "execution_count": null,
      "outputs": []
    },
    {
      "cell_type": "code",
      "source": [
        "df['diameter'] = pd.to_numeric(df['diameter'])"
      ],
      "metadata": {
        "id": "ZNoaDnSg_dyO"
      },
      "execution_count": null,
      "outputs": []
    },
    {
      "cell_type": "code",
      "source": [
        "df.condition_code.unique()"
      ],
      "metadata": {
        "colab": {
          "base_uri": "https://localhost:8080/"
        },
        "id": "XV6G-6OQ_dvt",
        "outputId": "90a0cdbc-b7e6-499b-d796-5ef18c741e95"
      },
      "execution_count": null,
      "outputs": [
        {
          "output_type": "execute_result",
          "data": {
            "text/plain": [
              "array([0, 1, 3, 2, '0', '1', '2', '3', '4', '5', '9', '7', 5.0, 6.0, 4.0,\n",
              "       7.0, 9.0, 8.0, '8', '6'], dtype=object)"
            ]
          },
          "metadata": {},
          "execution_count": 28
        }
      ]
    },
    {
      "cell_type": "code",
      "source": [
        "df['condition_code']=df['condition_code'].astype('int64')\n",
        "df.condition_code.unique()"
      ],
      "metadata": {
        "colab": {
          "base_uri": "https://localhost:8080/"
        },
        "id": "ptRax6Ce_dtg",
        "outputId": "f072a150-48fe-4c40-cb7a-49c48725e7ec"
      },
      "execution_count": null,
      "outputs": [
        {
          "output_type": "execute_result",
          "data": {
            "text/plain": [
              "array([0, 1, 3, 2, 4, 5, 9, 7, 6, 8])"
            ]
          },
          "metadata": {},
          "execution_count": 29
        }
      ]
    },
    {
      "cell_type": "code",
      "source": [
        "#Explore the unique values of the object features.\n",
        "df.select_dtypes('object').tail()"
      ],
      "metadata": {
        "colab": {
          "base_uri": "https://localhost:8080/",
          "height": 206
        },
        "id": "bXi9NkIr_dmt",
        "outputId": "4e4c6157-e35d-4fdd-ee37-1f0a59ca0708"
      },
      "execution_count": null,
      "outputs": [
        {
          "output_type": "execute_result",
          "data": {
            "text/plain": [
              "       near_earth_obj physically_hazardous_asteroid class\n",
              "797860              N                             N   MBA\n",
              "798077              N                             N   MBA\n",
              "798189              N                             N   MBA\n",
              "799752              N                             N   MBA\n",
              "810375              N                             N   MBA"
            ],
            "text/html": [
              "\n",
              "  <div id=\"df-8d1b25a8-c3f0-449c-81b2-659047fb29c9\">\n",
              "    <div class=\"colab-df-container\">\n",
              "      <div>\n",
              "<style scoped>\n",
              "    .dataframe tbody tr th:only-of-type {\n",
              "        vertical-align: middle;\n",
              "    }\n",
              "\n",
              "    .dataframe tbody tr th {\n",
              "        vertical-align: top;\n",
              "    }\n",
              "\n",
              "    .dataframe thead th {\n",
              "        text-align: right;\n",
              "    }\n",
              "</style>\n",
              "<table border=\"1\" class=\"dataframe\">\n",
              "  <thead>\n",
              "    <tr style=\"text-align: right;\">\n",
              "      <th></th>\n",
              "      <th>near_earth_obj</th>\n",
              "      <th>physically_hazardous_asteroid</th>\n",
              "      <th>class</th>\n",
              "    </tr>\n",
              "  </thead>\n",
              "  <tbody>\n",
              "    <tr>\n",
              "      <th>797860</th>\n",
              "      <td>N</td>\n",
              "      <td>N</td>\n",
              "      <td>MBA</td>\n",
              "    </tr>\n",
              "    <tr>\n",
              "      <th>798077</th>\n",
              "      <td>N</td>\n",
              "      <td>N</td>\n",
              "      <td>MBA</td>\n",
              "    </tr>\n",
              "    <tr>\n",
              "      <th>798189</th>\n",
              "      <td>N</td>\n",
              "      <td>N</td>\n",
              "      <td>MBA</td>\n",
              "    </tr>\n",
              "    <tr>\n",
              "      <th>799752</th>\n",
              "      <td>N</td>\n",
              "      <td>N</td>\n",
              "      <td>MBA</td>\n",
              "    </tr>\n",
              "    <tr>\n",
              "      <th>810375</th>\n",
              "      <td>N</td>\n",
              "      <td>N</td>\n",
              "      <td>MBA</td>\n",
              "    </tr>\n",
              "  </tbody>\n",
              "</table>\n",
              "</div>\n",
              "      <button class=\"colab-df-convert\" onclick=\"convertToInteractive('df-8d1b25a8-c3f0-449c-81b2-659047fb29c9')\"\n",
              "              title=\"Convert this dataframe to an interactive table.\"\n",
              "              style=\"display:none;\">\n",
              "        \n",
              "  <svg xmlns=\"http://www.w3.org/2000/svg\" height=\"24px\"viewBox=\"0 0 24 24\"\n",
              "       width=\"24px\">\n",
              "    <path d=\"M0 0h24v24H0V0z\" fill=\"none\"/>\n",
              "    <path d=\"M18.56 5.44l.94 2.06.94-2.06 2.06-.94-2.06-.94-.94-2.06-.94 2.06-2.06.94zm-11 1L8.5 8.5l.94-2.06 2.06-.94-2.06-.94L8.5 2.5l-.94 2.06-2.06.94zm10 10l.94 2.06.94-2.06 2.06-.94-2.06-.94-.94-2.06-.94 2.06-2.06.94z\"/><path d=\"M17.41 7.96l-1.37-1.37c-.4-.4-.92-.59-1.43-.59-.52 0-1.04.2-1.43.59L10.3 9.45l-7.72 7.72c-.78.78-.78 2.05 0 2.83L4 21.41c.39.39.9.59 1.41.59.51 0 1.02-.2 1.41-.59l7.78-7.78 2.81-2.81c.8-.78.8-2.07 0-2.86zM5.41 20L4 18.59l7.72-7.72 1.47 1.35L5.41 20z\"/>\n",
              "  </svg>\n",
              "      </button>\n",
              "      \n",
              "  <style>\n",
              "    .colab-df-container {\n",
              "      display:flex;\n",
              "      flex-wrap:wrap;\n",
              "      gap: 12px;\n",
              "    }\n",
              "\n",
              "    .colab-df-convert {\n",
              "      background-color: #E8F0FE;\n",
              "      border: none;\n",
              "      border-radius: 50%;\n",
              "      cursor: pointer;\n",
              "      display: none;\n",
              "      fill: #1967D2;\n",
              "      height: 32px;\n",
              "      padding: 0 0 0 0;\n",
              "      width: 32px;\n",
              "    }\n",
              "\n",
              "    .colab-df-convert:hover {\n",
              "      background-color: #E2EBFA;\n",
              "      box-shadow: 0px 1px 2px rgba(60, 64, 67, 0.3), 0px 1px 3px 1px rgba(60, 64, 67, 0.15);\n",
              "      fill: #174EA6;\n",
              "    }\n",
              "\n",
              "    [theme=dark] .colab-df-convert {\n",
              "      background-color: #3B4455;\n",
              "      fill: #D2E3FC;\n",
              "    }\n",
              "\n",
              "    [theme=dark] .colab-df-convert:hover {\n",
              "      background-color: #434B5C;\n",
              "      box-shadow: 0px 1px 3px 1px rgba(0, 0, 0, 0.15);\n",
              "      filter: drop-shadow(0px 1px 2px rgba(0, 0, 0, 0.3));\n",
              "      fill: #FFFFFF;\n",
              "    }\n",
              "  </style>\n",
              "\n",
              "      <script>\n",
              "        const buttonEl =\n",
              "          document.querySelector('#df-8d1b25a8-c3f0-449c-81b2-659047fb29c9 button.colab-df-convert');\n",
              "        buttonEl.style.display =\n",
              "          google.colab.kernel.accessAllowed ? 'block' : 'none';\n",
              "\n",
              "        async function convertToInteractive(key) {\n",
              "          const element = document.querySelector('#df-8d1b25a8-c3f0-449c-81b2-659047fb29c9');\n",
              "          const dataTable =\n",
              "            await google.colab.kernel.invokeFunction('convertToInteractive',\n",
              "                                                     [key], {});\n",
              "          if (!dataTable) return;\n",
              "\n",
              "          const docLinkHtml = 'Like what you see? Visit the ' +\n",
              "            '<a target=\"_blank\" href=https://colab.research.google.com/notebooks/data_table.ipynb>data table notebook</a>'\n",
              "            + ' to learn more about interactive tables.';\n",
              "          element.innerHTML = '';\n",
              "          dataTable['output_type'] = 'display_data';\n",
              "          await google.colab.output.renderOutput(dataTable, element);\n",
              "          const docLink = document.createElement('div');\n",
              "          docLink.innerHTML = docLinkHtml;\n",
              "          element.appendChild(docLink);\n",
              "        }\n",
              "      </script>\n",
              "    </div>\n",
              "  </div>\n",
              "  "
            ]
          },
          "metadata": {},
          "execution_count": 30
        }
      ]
    },
    {
      "cell_type": "code",
      "source": [
        "df['near_earth_obj'].value_counts()"
      ],
      "metadata": {
        "colab": {
          "base_uri": "https://localhost:8080/"
        },
        "id": "WrJNJ4Lh_84t",
        "outputId": "d2468bd0-e45e-4662-a91e-a012f959915f"
      },
      "execution_count": null,
      "outputs": [
        {
          "output_type": "execute_result",
          "data": {
            "text/plain": [
              "N    136786\n",
              "Y       850\n",
              "Name: near_earth_obj, dtype: int64"
            ]
          },
          "metadata": {},
          "execution_count": 31
        }
      ]
    },
    {
      "cell_type": "code",
      "source": [
        "df['physically_hazardous_asteroid'].value_counts()"
      ],
      "metadata": {
        "colab": {
          "base_uri": "https://localhost:8080/"
        },
        "id": "bc8ZRxcQ_811",
        "outputId": "d806146c-c146-4a74-d74a-b5c23b8f6db4"
      },
      "execution_count": null,
      "outputs": [
        {
          "output_type": "execute_result",
          "data": {
            "text/plain": [
              "N    137415\n",
              "Y       221\n",
              "Name: physically_hazardous_asteroid, dtype: int64"
            ]
          },
          "metadata": {},
          "execution_count": 32
        }
      ]
    },
    {
      "cell_type": "code",
      "source": [
        "df['class'].value_counts()"
      ],
      "metadata": {
        "colab": {
          "base_uri": "https://localhost:8080/"
        },
        "id": "wy0pHlKy_8zO",
        "outputId": "ddae07a3-de33-485a-e40b-20fac762ee17"
      },
      "execution_count": null,
      "outputs": [
        {
          "output_type": "execute_result",
          "data": {
            "text/plain": [
              "MBA    126390\n",
              "OMB      7510\n",
              "TJN      1874\n",
              "IMB       588\n",
              "APO       486\n",
              "MCA       355\n",
              "AMO       269\n",
              "ATE        95\n",
              "CEN        49\n",
              "TNO        13\n",
              "AST         7\n",
              "Name: class, dtype: int64"
            ]
          },
          "metadata": {},
          "execution_count": 33
        }
      ]
    },
    {
      "cell_type": "code",
      "source": [
        "df.shape"
      ],
      "metadata": {
        "colab": {
          "base_uri": "https://localhost:8080/"
        },
        "id": "HdzFUMGxAm_W",
        "outputId": "76e00e0c-1d30-4846-cef1-030da9a78717"
      },
      "execution_count": null,
      "outputs": [
        {
          "output_type": "execute_result",
          "data": {
            "text/plain": [
              "(137636, 21)"
            ]
          },
          "metadata": {},
          "execution_count": 34
        }
      ]
    },
    {
      "cell_type": "code",
      "source": [
        "df.describe()"
      ],
      "metadata": {
        "colab": {
          "base_uri": "https://localhost:8080/",
          "height": 381
        },
        "id": "ayacpJAoAm8k",
        "outputId": "8f2e095b-e6a0-47fd-d022-c4f0f4302fc6"
      },
      "execution_count": null,
      "outputs": [
        {
          "output_type": "execute_result",
          "data": {
            "text/plain": [
              "       semi-major_axis(au)   eccentricity  x-y_inclination(deg)  \\\n",
              "count        137636.000000  137636.000000         137636.000000   \n",
              "mean              2.814613       0.145485             10.349182   \n",
              "std               1.522740       0.077573              6.835111   \n",
              "min               0.626226       0.000489              0.021855   \n",
              "25%               2.536714       0.089623              5.120506   \n",
              "50%               2.750859       0.138543              9.389963   \n",
              "75%               3.092537       0.191141             13.738588   \n",
              "max             389.145964       0.984348            170.323647   \n",
              "\n",
              "       longitude_asc_node  argument_perihelion  perihelion_dist(au)  \\\n",
              "count       137636.000000        137636.000000        137636.000000   \n",
              "mean           169.827629           181.904551             2.402609   \n",
              "std            102.713052           103.556464             0.516169   \n",
              "min              0.000738             0.004466             0.081882   \n",
              "25%             82.334880            91.947943             2.068948   \n",
              "50%            160.438430           183.669900             2.363897   \n",
              "75%            256.268387           271.762261             2.685811   \n",
              "max            359.990858           359.995174            40.465671   \n",
              "\n",
              "       aphelion_dist(au)  orbital_period    data_arc(d)  condition_code  \\\n",
              "count      137636.000000   137636.000000  137636.000000   137636.000000   \n",
              "mean            3.226618        4.884248    8969.818601        0.485207   \n",
              "std             2.896374       25.532565    6162.084652        1.966078   \n",
              "min             0.999956        0.495569       1.000000        0.000000   \n",
              "25%             2.864438        4.040317    6292.000000        0.000000   \n",
              "50%             3.167516        4.562581    7577.000000        0.000000   \n",
              "75%             3.468608        5.438518    9726.000000        0.000000   \n",
              "max           772.201080     7676.742943   72684.000000        9.000000   \n",
              "\n",
              "          n_obs_used   abs_mag_para       diameter     geo_albedo  \\\n",
              "count  137636.000000  137636.000000  137636.000000  137636.000000   \n",
              "mean      675.027740      15.177041       5.483228       0.130066   \n",
              "std       595.935104       1.403829       9.385735       0.109501   \n",
              "min         5.000000       3.200000       0.002500       0.001000   \n",
              "25%       215.000000      14.400000       2.770000       0.053000   \n",
              "50%       496.000000      15.300000       3.956000       0.079000   \n",
              "75%       984.000000      16.100000       5.742000       0.187000   \n",
              "max      9325.000000      29.900000     939.400000       1.000000   \n",
              "\n",
              "       earth_min_oribit_inter_dist(au)  mean_motion(deg/d)  orbital_period(d)  \\\n",
              "count                    137636.000000       137636.000000       1.376360e+05   \n",
              "mean                          1.420145            0.219640       1.783972e+03   \n",
              "std                           0.512241            0.056980       9.325769e+03   \n",
              "min                           0.000166            0.000128       1.810067e+02   \n",
              "25%                           1.082523            0.181231       1.475726e+03   \n",
              "50%                           1.384935            0.216024       1.666483e+03   \n",
              "75%                           1.699385            0.243948       1.986419e+03   \n",
              "max                          39.507000            1.988877       2.803930e+06   \n",
              "\n",
              "       mean_anomaly(deg)  \n",
              "count      137636.000000  \n",
              "mean          183.116785  \n",
              "std           103.411497  \n",
              "min             0.000517  \n",
              "25%            94.301261  \n",
              "50%           186.826667  \n",
              "75%           271.468299  \n",
              "max           359.999979  "
            ],
            "text/html": [
              "\n",
              "  <div id=\"df-dcf34445-249a-4959-978b-590b7dd45bb5\">\n",
              "    <div class=\"colab-df-container\">\n",
              "      <div>\n",
              "<style scoped>\n",
              "    .dataframe tbody tr th:only-of-type {\n",
              "        vertical-align: middle;\n",
              "    }\n",
              "\n",
              "    .dataframe tbody tr th {\n",
              "        vertical-align: top;\n",
              "    }\n",
              "\n",
              "    .dataframe thead th {\n",
              "        text-align: right;\n",
              "    }\n",
              "</style>\n",
              "<table border=\"1\" class=\"dataframe\">\n",
              "  <thead>\n",
              "    <tr style=\"text-align: right;\">\n",
              "      <th></th>\n",
              "      <th>semi-major_axis(au)</th>\n",
              "      <th>eccentricity</th>\n",
              "      <th>x-y_inclination(deg)</th>\n",
              "      <th>longitude_asc_node</th>\n",
              "      <th>argument_perihelion</th>\n",
              "      <th>perihelion_dist(au)</th>\n",
              "      <th>aphelion_dist(au)</th>\n",
              "      <th>orbital_period</th>\n",
              "      <th>data_arc(d)</th>\n",
              "      <th>condition_code</th>\n",
              "      <th>n_obs_used</th>\n",
              "      <th>abs_mag_para</th>\n",
              "      <th>diameter</th>\n",
              "      <th>geo_albedo</th>\n",
              "      <th>earth_min_oribit_inter_dist(au)</th>\n",
              "      <th>mean_motion(deg/d)</th>\n",
              "      <th>orbital_period(d)</th>\n",
              "      <th>mean_anomaly(deg)</th>\n",
              "    </tr>\n",
              "  </thead>\n",
              "  <tbody>\n",
              "    <tr>\n",
              "      <th>count</th>\n",
              "      <td>137636.000000</td>\n",
              "      <td>137636.000000</td>\n",
              "      <td>137636.000000</td>\n",
              "      <td>137636.000000</td>\n",
              "      <td>137636.000000</td>\n",
              "      <td>137636.000000</td>\n",
              "      <td>137636.000000</td>\n",
              "      <td>137636.000000</td>\n",
              "      <td>137636.000000</td>\n",
              "      <td>137636.000000</td>\n",
              "      <td>137636.000000</td>\n",
              "      <td>137636.000000</td>\n",
              "      <td>137636.000000</td>\n",
              "      <td>137636.000000</td>\n",
              "      <td>137636.000000</td>\n",
              "      <td>137636.000000</td>\n",
              "      <td>1.376360e+05</td>\n",
              "      <td>137636.000000</td>\n",
              "    </tr>\n",
              "    <tr>\n",
              "      <th>mean</th>\n",
              "      <td>2.814613</td>\n",
              "      <td>0.145485</td>\n",
              "      <td>10.349182</td>\n",
              "      <td>169.827629</td>\n",
              "      <td>181.904551</td>\n",
              "      <td>2.402609</td>\n",
              "      <td>3.226618</td>\n",
              "      <td>4.884248</td>\n",
              "      <td>8969.818601</td>\n",
              "      <td>0.485207</td>\n",
              "      <td>675.027740</td>\n",
              "      <td>15.177041</td>\n",
              "      <td>5.483228</td>\n",
              "      <td>0.130066</td>\n",
              "      <td>1.420145</td>\n",
              "      <td>0.219640</td>\n",
              "      <td>1.783972e+03</td>\n",
              "      <td>183.116785</td>\n",
              "    </tr>\n",
              "    <tr>\n",
              "      <th>std</th>\n",
              "      <td>1.522740</td>\n",
              "      <td>0.077573</td>\n",
              "      <td>6.835111</td>\n",
              "      <td>102.713052</td>\n",
              "      <td>103.556464</td>\n",
              "      <td>0.516169</td>\n",
              "      <td>2.896374</td>\n",
              "      <td>25.532565</td>\n",
              "      <td>6162.084652</td>\n",
              "      <td>1.966078</td>\n",
              "      <td>595.935104</td>\n",
              "      <td>1.403829</td>\n",
              "      <td>9.385735</td>\n",
              "      <td>0.109501</td>\n",
              "      <td>0.512241</td>\n",
              "      <td>0.056980</td>\n",
              "      <td>9.325769e+03</td>\n",
              "      <td>103.411497</td>\n",
              "    </tr>\n",
              "    <tr>\n",
              "      <th>min</th>\n",
              "      <td>0.626226</td>\n",
              "      <td>0.000489</td>\n",
              "      <td>0.021855</td>\n",
              "      <td>0.000738</td>\n",
              "      <td>0.004466</td>\n",
              "      <td>0.081882</td>\n",
              "      <td>0.999956</td>\n",
              "      <td>0.495569</td>\n",
              "      <td>1.000000</td>\n",
              "      <td>0.000000</td>\n",
              "      <td>5.000000</td>\n",
              "      <td>3.200000</td>\n",
              "      <td>0.002500</td>\n",
              "      <td>0.001000</td>\n",
              "      <td>0.000166</td>\n",
              "      <td>0.000128</td>\n",
              "      <td>1.810067e+02</td>\n",
              "      <td>0.000517</td>\n",
              "    </tr>\n",
              "    <tr>\n",
              "      <th>25%</th>\n",
              "      <td>2.536714</td>\n",
              "      <td>0.089623</td>\n",
              "      <td>5.120506</td>\n",
              "      <td>82.334880</td>\n",
              "      <td>91.947943</td>\n",
              "      <td>2.068948</td>\n",
              "      <td>2.864438</td>\n",
              "      <td>4.040317</td>\n",
              "      <td>6292.000000</td>\n",
              "      <td>0.000000</td>\n",
              "      <td>215.000000</td>\n",
              "      <td>14.400000</td>\n",
              "      <td>2.770000</td>\n",
              "      <td>0.053000</td>\n",
              "      <td>1.082523</td>\n",
              "      <td>0.181231</td>\n",
              "      <td>1.475726e+03</td>\n",
              "      <td>94.301261</td>\n",
              "    </tr>\n",
              "    <tr>\n",
              "      <th>50%</th>\n",
              "      <td>2.750859</td>\n",
              "      <td>0.138543</td>\n",
              "      <td>9.389963</td>\n",
              "      <td>160.438430</td>\n",
              "      <td>183.669900</td>\n",
              "      <td>2.363897</td>\n",
              "      <td>3.167516</td>\n",
              "      <td>4.562581</td>\n",
              "      <td>7577.000000</td>\n",
              "      <td>0.000000</td>\n",
              "      <td>496.000000</td>\n",
              "      <td>15.300000</td>\n",
              "      <td>3.956000</td>\n",
              "      <td>0.079000</td>\n",
              "      <td>1.384935</td>\n",
              "      <td>0.216024</td>\n",
              "      <td>1.666483e+03</td>\n",
              "      <td>186.826667</td>\n",
              "    </tr>\n",
              "    <tr>\n",
              "      <th>75%</th>\n",
              "      <td>3.092537</td>\n",
              "      <td>0.191141</td>\n",
              "      <td>13.738588</td>\n",
              "      <td>256.268387</td>\n",
              "      <td>271.762261</td>\n",
              "      <td>2.685811</td>\n",
              "      <td>3.468608</td>\n",
              "      <td>5.438518</td>\n",
              "      <td>9726.000000</td>\n",
              "      <td>0.000000</td>\n",
              "      <td>984.000000</td>\n",
              "      <td>16.100000</td>\n",
              "      <td>5.742000</td>\n",
              "      <td>0.187000</td>\n",
              "      <td>1.699385</td>\n",
              "      <td>0.243948</td>\n",
              "      <td>1.986419e+03</td>\n",
              "      <td>271.468299</td>\n",
              "    </tr>\n",
              "    <tr>\n",
              "      <th>max</th>\n",
              "      <td>389.145964</td>\n",
              "      <td>0.984348</td>\n",
              "      <td>170.323647</td>\n",
              "      <td>359.990858</td>\n",
              "      <td>359.995174</td>\n",
              "      <td>40.465671</td>\n",
              "      <td>772.201080</td>\n",
              "      <td>7676.742943</td>\n",
              "      <td>72684.000000</td>\n",
              "      <td>9.000000</td>\n",
              "      <td>9325.000000</td>\n",
              "      <td>29.900000</td>\n",
              "      <td>939.400000</td>\n",
              "      <td>1.000000</td>\n",
              "      <td>39.507000</td>\n",
              "      <td>1.988877</td>\n",
              "      <td>2.803930e+06</td>\n",
              "      <td>359.999979</td>\n",
              "    </tr>\n",
              "  </tbody>\n",
              "</table>\n",
              "</div>\n",
              "      <button class=\"colab-df-convert\" onclick=\"convertToInteractive('df-dcf34445-249a-4959-978b-590b7dd45bb5')\"\n",
              "              title=\"Convert this dataframe to an interactive table.\"\n",
              "              style=\"display:none;\">\n",
              "        \n",
              "  <svg xmlns=\"http://www.w3.org/2000/svg\" height=\"24px\"viewBox=\"0 0 24 24\"\n",
              "       width=\"24px\">\n",
              "    <path d=\"M0 0h24v24H0V0z\" fill=\"none\"/>\n",
              "    <path d=\"M18.56 5.44l.94 2.06.94-2.06 2.06-.94-2.06-.94-.94-2.06-.94 2.06-2.06.94zm-11 1L8.5 8.5l.94-2.06 2.06-.94-2.06-.94L8.5 2.5l-.94 2.06-2.06.94zm10 10l.94 2.06.94-2.06 2.06-.94-2.06-.94-.94-2.06-.94 2.06-2.06.94z\"/><path d=\"M17.41 7.96l-1.37-1.37c-.4-.4-.92-.59-1.43-.59-.52 0-1.04.2-1.43.59L10.3 9.45l-7.72 7.72c-.78.78-.78 2.05 0 2.83L4 21.41c.39.39.9.59 1.41.59.51 0 1.02-.2 1.41-.59l7.78-7.78 2.81-2.81c.8-.78.8-2.07 0-2.86zM5.41 20L4 18.59l7.72-7.72 1.47 1.35L5.41 20z\"/>\n",
              "  </svg>\n",
              "      </button>\n",
              "      \n",
              "  <style>\n",
              "    .colab-df-container {\n",
              "      display:flex;\n",
              "      flex-wrap:wrap;\n",
              "      gap: 12px;\n",
              "    }\n",
              "\n",
              "    .colab-df-convert {\n",
              "      background-color: #E8F0FE;\n",
              "      border: none;\n",
              "      border-radius: 50%;\n",
              "      cursor: pointer;\n",
              "      display: none;\n",
              "      fill: #1967D2;\n",
              "      height: 32px;\n",
              "      padding: 0 0 0 0;\n",
              "      width: 32px;\n",
              "    }\n",
              "\n",
              "    .colab-df-convert:hover {\n",
              "      background-color: #E2EBFA;\n",
              "      box-shadow: 0px 1px 2px rgba(60, 64, 67, 0.3), 0px 1px 3px 1px rgba(60, 64, 67, 0.15);\n",
              "      fill: #174EA6;\n",
              "    }\n",
              "\n",
              "    [theme=dark] .colab-df-convert {\n",
              "      background-color: #3B4455;\n",
              "      fill: #D2E3FC;\n",
              "    }\n",
              "\n",
              "    [theme=dark] .colab-df-convert:hover {\n",
              "      background-color: #434B5C;\n",
              "      box-shadow: 0px 1px 3px 1px rgba(0, 0, 0, 0.15);\n",
              "      filter: drop-shadow(0px 1px 2px rgba(0, 0, 0, 0.3));\n",
              "      fill: #FFFFFF;\n",
              "    }\n",
              "  </style>\n",
              "\n",
              "      <script>\n",
              "        const buttonEl =\n",
              "          document.querySelector('#df-dcf34445-249a-4959-978b-590b7dd45bb5 button.colab-df-convert');\n",
              "        buttonEl.style.display =\n",
              "          google.colab.kernel.accessAllowed ? 'block' : 'none';\n",
              "\n",
              "        async function convertToInteractive(key) {\n",
              "          const element = document.querySelector('#df-dcf34445-249a-4959-978b-590b7dd45bb5');\n",
              "          const dataTable =\n",
              "            await google.colab.kernel.invokeFunction('convertToInteractive',\n",
              "                                                     [key], {});\n",
              "          if (!dataTable) return;\n",
              "\n",
              "          const docLinkHtml = 'Like what you see? Visit the ' +\n",
              "            '<a target=\"_blank\" href=https://colab.research.google.com/notebooks/data_table.ipynb>data table notebook</a>'\n",
              "            + ' to learn more about interactive tables.';\n",
              "          element.innerHTML = '';\n",
              "          dataTable['output_type'] = 'display_data';\n",
              "          await google.colab.output.renderOutput(dataTable, element);\n",
              "          const docLink = document.createElement('div');\n",
              "          docLink.innerHTML = docLinkHtml;\n",
              "          element.appendChild(docLink);\n",
              "        }\n",
              "      </script>\n",
              "    </div>\n",
              "  </div>\n",
              "  "
            ]
          },
          "metadata": {},
          "execution_count": 35
        }
      ]
    },
    {
      "cell_type": "code",
      "source": [
        "data_type = df.dtypes\n",
        "data_type[(data_type == 'object')|(data_type == 'category')].index.tolist()"
      ],
      "metadata": {
        "colab": {
          "base_uri": "https://localhost:8080/"
        },
        "id": "4xvtEovdX_Ze",
        "outputId": "ea7e2e37-bd45-4f75-86ca-2d17c179375c"
      },
      "execution_count": null,
      "outputs": [
        {
          "output_type": "execute_result",
          "data": {
            "text/plain": [
              "['near_earth_obj', 'physically_hazardous_asteroid', 'class']"
            ]
          },
          "metadata": {},
          "execution_count": 36
        }
      ]
    },
    {
      "cell_type": "code",
      "source": [
        "#Dropping the columns with data type object\n",
        "drop_list = ['near_earth_obj', 'physically_hazardous_asteroid']\n",
        "df.drop(drop_list, axis=1, inplace=True)"
      ],
      "metadata": {
        "id": "-rMFUuTqAm6M"
      },
      "execution_count": null,
      "outputs": []
    },
    {
      "cell_type": "code",
      "source": [
        "df.shape"
      ],
      "metadata": {
        "colab": {
          "base_uri": "https://localhost:8080/"
        },
        "id": "E6Fskr5cA2d-",
        "outputId": "f8da307c-e206-4ba6-fbb3-18b5ffd95761"
      },
      "execution_count": null,
      "outputs": [
        {
          "output_type": "execute_result",
          "data": {
            "text/plain": [
              "(137636, 19)"
            ]
          },
          "metadata": {},
          "execution_count": 38
        }
      ]
    },
    {
      "cell_type": "markdown",
      "source": [
        "Boxplot\n"
      ],
      "metadata": {
        "id": "DYNUatjWYHqE"
      }
    },
    {
      "cell_type": "code",
      "source": [
        "sns.set_palette('inferno', 11)\n",
        "sns.boxplot(x='class', y='diameter', data=df)\n",
        "plt.yscale('log')"
      ],
      "metadata": {
        "colab": {
          "base_uri": "https://localhost:8080/",
          "height": 279
        },
        "id": "fmmCUislYHKe",
        "outputId": "96d52574-9a5f-4ca6-b8e6-d88ade881bba"
      },
      "execution_count": null,
      "outputs": [
        {
          "output_type": "display_data",
          "data": {
            "text/plain": [
              "<Figure size 432x288 with 1 Axes>"
            ],
            "image/png": "[encoded data removed]"
          },
          "metadata": {
            "needs_background": "light"
          }
        }
      ]
    },
    {
      "cell_type": "code",
      "source": [
        "sns.boxplot(x='condition_code', y='diameter', data=df)\n",
        "plt.title('Diameter by Condition Code')\n",
        "plt.yscale('log')"
      ],
      "metadata": {
        "colab": {
          "base_uri": "https://localhost:8080/",
          "height": 296
        },
        "id": "BhkHDuvAYHIM",
        "outputId": "4324978b-81aa-47ac-fffb-5e5544735b83"
      },
      "execution_count": null,
      "outputs": [
        {
          "output_type": "display_data",
          "data": {
            "text/plain": [
              "<Figure size 432x288 with 1 Axes>"
            ],
            "image/png": "[encoded data removed]"
          },
          "metadata": {
            "needs_background": "light"
          }
        }
      ]
    },
    {
      "cell_type": "code",
      "source": [
        "df.drop('condition_code', axis=1, inplace=True)"
      ],
      "metadata": {
        "id": "v32cwPs1YHFr"
      },
      "execution_count": null,
      "outputs": []
    },
    {
      "cell_type": "code",
      "source": [
        "df.shape"
      ],
      "metadata": {
        "colab": {
          "base_uri": "https://localhost:8080/"
        },
        "id": "wxwReN42YaWU",
        "outputId": "da877cfa-3cb3-4f9e-cf22-c16951181c29"
      },
      "execution_count": null,
      "outputs": [
        {
          "output_type": "execute_result",
          "data": {
            "text/plain": [
              "(137636, 18)"
            ]
          },
          "metadata": {},
          "execution_count": 42
        }
      ]
    },
    {
      "cell_type": "markdown",
      "source": [
        "Heat Map"
      ],
      "metadata": {
        "id": "HMisFkPOD3xC"
      }
    },
    {
      "cell_type": "code",
      "source": [
        "plt.figure(figsize=(20,10))\n",
        "sns.set(font_scale=1.4)\n",
        "sns.heatmap(df.corr(),annot=True, cmap='inferno', fmt='.2f', annot_kws={'size':16})"
      ],
      "metadata": {
        "colab": {
          "base_uri": "https://localhost:8080/",
          "height": 432
        },
        "id": "M8LTRvcOA2bX",
        "outputId": "3b33a3fc-65b9-4934-cc1b-bb837b1b44df"
      },
      "execution_count": null,
      "outputs": [
        {
          "output_type": "execute_result",
          "data": {
            "text/plain": [
              "<AxesSubplot:>"
            ]
          },
          "metadata": {},
          "execution_count": 43
        },
        {
          "output_type": "display_data",
          "data": {
            "text/plain": [
              "<Figure size 1440x720 with 2 Axes>"
            ],
            "image/png": "[encoded data removed]"
          },
          "metadata": {
            "needs_background": "light"
          }
        }
      ]
    },
    {
      "cell_type": "code",
      "source": [
        "#orbital_period(d) and orbital_period\n",
        "df.drop('orbital_period', axis=1, inplace=True)"
      ],
      "metadata": {
        "id": "9elEz63tA2Yl"
      },
      "execution_count": null,
      "outputs": []
    },
    {
      "cell_type": "code",
      "source": [
        "#perihelion_distance and earth_min_orbit_inter_dist(au)\n",
        "df.drop('earth_min_oribit_inter_dist(au)', axis=1, inplace=True)"
      ],
      "metadata": {
        "id": "1jBmpAq2C_s-"
      },
      "execution_count": null,
      "outputs": []
    },
    {
      "cell_type": "code",
      "source": [
        "df.shape"
      ],
      "metadata": {
        "colab": {
          "base_uri": "https://localhost:8080/"
        },
        "id": "PUx9c0VgC_ns",
        "outputId": "5cb8c03d-4fa8-4313-950e-b91f0794340b"
      },
      "execution_count": null,
      "outputs": [
        {
          "output_type": "execute_result",
          "data": {
            "text/plain": [
              "(137636, 16)"
            ]
          },
          "metadata": {},
          "execution_count": 46
        }
      ]
    },
    {
      "cell_type": "code",
      "source": [
        "df = pd.get_dummies(df, columns=['class'])"
      ],
      "metadata": {
        "id": "L9f-6OwCDHJj"
      },
      "execution_count": null,
      "outputs": []
    },
    {
      "cell_type": "code",
      "source": [
        "df.shape"
      ],
      "metadata": {
        "colab": {
          "base_uri": "https://localhost:8080/"
        },
        "id": "z7cB1VvIDHEM",
        "outputId": "57ded3f0-9b95-464b-f7ee-9abdde9d4283"
      },
      "execution_count": null,
      "outputs": [
        {
          "output_type": "execute_result",
          "data": {
            "text/plain": [
              "(137636, 26)"
            ]
          },
          "metadata": {},
          "execution_count": 48
        }
      ]
    },
    {
      "cell_type": "code",
      "source": [
        "df.columns"
      ],
      "metadata": {
        "colab": {
          "base_uri": "https://localhost:8080/"
        },
        "id": "mjK_wBYuDHBe",
        "outputId": "5fb94631-36a4-4cfe-ebdf-aa5d69656d82"
      },
      "execution_count": null,
      "outputs": [
        {
          "output_type": "execute_result",
          "data": {
            "text/plain": [
              "Index(['semi-major_axis(au)', 'eccentricity', 'x-y_inclination(deg)',\n",
              "       'longitude_asc_node', 'argument_perihelion', 'perihelion_dist(au)',\n",
              "       'aphelion_dist(au)', 'data_arc(d)', 'n_obs_used', 'abs_mag_para',\n",
              "       'diameter', 'geo_albedo', 'mean_motion(deg/d)', 'orbital_period(d)',\n",
              "       'mean_anomaly(deg)', 'class_AMO', 'class_APO', 'class_AST', 'class_ATE',\n",
              "       'class_CEN', 'class_IMB', 'class_MBA', 'class_MCA', 'class_OMB',\n",
              "       'class_TJN', 'class_TNO'],\n",
              "      dtype='object')"
            ]
          },
          "metadata": {},
          "execution_count": 49
        }
      ]
    },
    {
      "cell_type": "code",
      "source": [
        "df.head()"
      ],
      "metadata": {
        "colab": {
          "base_uri": "https://localhost:8080/",
          "height": 317
        },
        "id": "GVLLCrsADV1T",
        "outputId": "6b016f41-9601-423d-f89a-6417ed9386dd"
      },
      "execution_count": null,
      "outputs": [
        {
          "output_type": "execute_result",
          "data": {
            "text/plain": [
              "   semi-major_axis(au)  eccentricity  x-y_inclination(deg)  \\\n",
              "0             2.769165      0.076009             10.594067   \n",
              "1             2.772466      0.230337             34.836234   \n",
              "2             2.669150      0.256942             12.988919   \n",
              "3             2.361418      0.088721              7.141771   \n",
              "4             2.574249      0.191095              5.366988   \n",
              "\n",
              "   longitude_asc_node  argument_perihelion  perihelion_dist(au)  \\\n",
              "0           80.305532            73.597694             2.558684   \n",
              "1          173.080063           310.048857             2.133865   \n",
              "2          169.852760           248.138626             1.983332   \n",
              "3          103.810804           150.728541             2.151909   \n",
              "4          141.576605           358.687607             2.082324   \n",
              "\n",
              "   aphelion_dist(au)  data_arc(d)  n_obs_used  abs_mag_para  ...  class_APO  \\\n",
              "0           2.979647       8822.0        1002          3.34  ...          0   \n",
              "1           3.411067      72318.0        8490          4.13  ...          0   \n",
              "2           3.354967      72684.0        7104          5.33  ...          0   \n",
              "3           2.570926      24288.0        9325          3.20  ...          0   \n",
              "4           3.066174      63507.0        2916          6.85  ...          0   \n",
              "\n",
              "   class_AST  class_ATE  class_CEN  class_IMB  class_MBA  class_MCA  \\\n",
              "0          0          0          0          0          1          0   \n",
              "1          0          0          0          0          1          0   \n",
              "2          0          0          0          0          1          0   \n",
              "3          0          0          0          0          1          0   \n",
              "4          0          0          0          0          1          0   \n",
              "\n",
              "   class_OMB  class_TJN  class_TNO  \n",
              "0          0          0          0  \n",
              "1          0          0          0  \n",
              "2          0          0          0  \n",
              "3          0          0          0  \n",
              "4          0          0          0  \n",
              "\n",
              "[5 rows x 26 columns]"
            ],
            "text/html": [
              "\n",
              "  <div id=\"df-c7737280-19bd-4b9f-bae5-6b46b5444e49\">\n",
              "    <div class=\"colab-df-container\">\n",
              "      <div>\n",
              "<style scoped>\n",
              "    .dataframe tbody tr th:only-of-type {\n",
              "        vertical-align: middle;\n",
              "    }\n",
              "\n",
              "    .dataframe tbody tr th {\n",
              "        vertical-align: top;\n",
              "    }\n",
              "\n",
              "    .dataframe thead th {\n",
              "        text-align: right;\n",
              "    }\n",
              "</style>\n",
              "<table border=\"1\" class=\"dataframe\">\n",
              "  <thead>\n",
              "    <tr style=\"text-align: right;\">\n",
              "      <th></th>\n",
              "      <th>semi-major_axis(au)</th>\n",
              "      <th>eccentricity</th>\n",
              "      <th>x-y_inclination(deg)</th>\n",
              "      <th>longitude_asc_node</th>\n",
              "      <th>argument_perihelion</th>\n",
              "      <th>perihelion_dist(au)</th>\n",
              "      <th>aphelion_dist(au)</th>\n",
              "      <th>data_arc(d)</th>\n",
              "      <th>n_obs_used</th>\n",
              "      <th>abs_mag_para</th>\n",
              "      <th>...</th>\n",
              "      <th>class_APO</th>\n",
              "      <th>class_AST</th>\n",
              "      <th>class_ATE</th>\n",
              "      <th>class_CEN</th>\n",
              "      <th>class_IMB</th>\n",
              "      <th>class_MBA</th>\n",
              "      <th>class_MCA</th>\n",
              "      <th>class_OMB</th>\n",
              "      <th>class_TJN</th>\n",
              "      <th>class_TNO</th>\n",
              "    </tr>\n",
              "  </thead>\n",
              "  <tbody>\n",
              "    <tr>\n",
              "      <th>0</th>\n",
              "      <td>2.769165</td>\n",
              "      <td>0.076009</td>\n",
              "      <td>10.594067</td>\n",
              "      <td>80.305532</td>\n",
              "      <td>73.597694</td>\n",
              "      <td>2.558684</td>\n",
              "      <td>2.979647</td>\n",
              "      <td>8822.0</td>\n",
              "      <td>1002</td>\n",
              "      <td>3.34</td>\n",
              "      <td>...</td>\n",
              "      <td>0</td>\n",
              "      <td>0</td>\n",
              "      <td>0</td>\n",
              "      <td>0</td>\n",
              "      <td>0</td>\n",
              "      <td>1</td>\n",
              "      <td>0</td>\n",
              "      <td>0</td>\n",
              "      <td>0</td>\n",
              "      <td>0</td>\n",
              "    </tr>\n",
              "    <tr>\n",
              "      <th>1</th>\n",
              "      <td>2.772466</td>\n",
              "      <td>0.230337</td>\n",
              "      <td>34.836234</td>\n",
              "      <td>173.080063</td>\n",
              "      <td>310.048857</td>\n",
              "      <td>2.133865</td>\n",
              "      <td>3.411067</td>\n",
              "      <td>72318.0</td>\n",
              "      <td>8490</td>\n",
              "      <td>4.13</td>\n",
              "      <td>...</td>\n",
              "      <td>0</td>\n",
              "      <td>0</td>\n",
              "      <td>0</td>\n",
              "      <td>0</td>\n",
              "      <td>0</td>\n",
              "      <td>1</td>\n",
              "      <td>0</td>\n",
              "      <td>0</td>\n",
              "      <td>0</td>\n",
              "      <td>0</td>\n",
              "    </tr>\n",
              "    <tr>\n",
              "      <th>2</th>\n",
              "      <td>2.669150</td>\n",
              "      <td>0.256942</td>\n",
              "      <td>12.988919</td>\n",
              "      <td>169.852760</td>\n",
              "      <td>248.138626</td>\n",
              "      <td>1.983332</td>\n",
              "      <td>3.354967</td>\n",
              "      <td>72684.0</td>\n",
              "      <td>7104</td>\n",
              "      <td>5.33</td>\n",
              "      <td>...</td>\n",
              "      <td>0</td>\n",
              "      <td>0</td>\n",
              "      <td>0</td>\n",
              "      <td>0</td>\n",
              "      <td>0</td>\n",
              "      <td>1</td>\n",
              "      <td>0</td>\n",
              "      <td>0</td>\n",
              "      <td>0</td>\n",
              "      <td>0</td>\n",
              "    </tr>\n",
              "    <tr>\n",
              "      <th>3</th>\n",
              "      <td>2.361418</td>\n",
              "      <td>0.088721</td>\n",
              "      <td>7.141771</td>\n",
              "      <td>103.810804</td>\n",
              "      <td>150.728541</td>\n",
              "      <td>2.151909</td>\n",
              "      <td>2.570926</td>\n",
              "      <td>24288.0</td>\n",
              "      <td>9325</td>\n",
              "      <td>3.20</td>\n",
              "      <td>...</td>\n",
              "      <td>0</td>\n",
              "      <td>0</td>\n",
              "      <td>0</td>\n",
              "      <td>0</td>\n",
              "      <td>0</td>\n",
              "      <td>1</td>\n",
              "      <td>0</td>\n",
              "      <td>0</td>\n",
              "      <td>0</td>\n",
              "      <td>0</td>\n",
              "    </tr>\n",
              "    <tr>\n",
              "      <th>4</th>\n",
              "      <td>2.574249</td>\n",
              "      <td>0.191095</td>\n",
              "      <td>5.366988</td>\n",
              "      <td>141.576605</td>\n",
              "      <td>358.687607</td>\n",
              "      <td>2.082324</td>\n",
              "      <td>3.066174</td>\n",
              "      <td>63507.0</td>\n",
              "      <td>2916</td>\n",
              "      <td>6.85</td>\n",
              "      <td>...</td>\n",
              "      <td>0</td>\n",
              "      <td>0</td>\n",
              "      <td>0</td>\n",
              "      <td>0</td>\n",
              "      <td>0</td>\n",
              "      <td>1</td>\n",
              "      <td>0</td>\n",
              "      <td>0</td>\n",
              "      <td>0</td>\n",
              "      <td>0</td>\n",
              "    </tr>\n",
              "  </tbody>\n",
              "</table>\n",
              "<p>5 rows × 26 columns</p>\n",
              "</div>\n",
              "      <button class=\"colab-df-convert\" onclick=\"convertToInteractive('df-c7737280-19bd-4b9f-bae5-6b46b5444e49')\"\n",
              "              title=\"Convert this dataframe to an interactive table.\"\n",
              "              style=\"display:none;\">\n",
              "        \n",
              "  <svg xmlns=\"http://www.w3.org/2000/svg\" height=\"24px\"viewBox=\"0 0 24 24\"\n",
              "       width=\"24px\">\n",
              "    <path d=\"M0 0h24v24H0V0z\" fill=\"none\"/>\n",
              "    <path d=\"M18.56 5.44l.94 2.06.94-2.06 2.06-.94-2.06-.94-.94-2.06-.94 2.06-2.06.94zm-11 1L8.5 8.5l.94-2.06 2.06-.94-2.06-.94L8.5 2.5l-.94 2.06-2.06.94zm10 10l.94 2.06.94-2.06 2.06-.94-2.06-.94-.94-2.06-.94 2.06-2.06.94z\"/><path d=\"M17.41 7.96l-1.37-1.37c-.4-.4-.92-.59-1.43-.59-.52 0-1.04.2-1.43.59L10.3 9.45l-7.72 7.72c-.78.78-.78 2.05 0 2.83L4 21.41c.39.39.9.59 1.41.59.51 0 1.02-.2 1.41-.59l7.78-7.78 2.81-2.81c.8-.78.8-2.07 0-2.86zM5.41 20L4 18.59l7.72-7.72 1.47 1.35L5.41 20z\"/>\n",
              "  </svg>\n",
              "      </button>\n",
              "      \n",
              "  <style>\n",
              "    .colab-df-container {\n",
              "      display:flex;\n",
              "      flex-wrap:wrap;\n",
              "      gap: 12px;\n",
              "    }\n",
              "\n",
              "    .colab-df-convert {\n",
              "      background-color: #E8F0FE;\n",
              "      border: none;\n",
              "      border-radius: 50%;\n",
              "      cursor: pointer;\n",
              "      display: none;\n",
              "      fill: #1967D2;\n",
              "      height: 32px;\n",
              "      padding: 0 0 0 0;\n",
              "      width: 32px;\n",
              "    }\n",
              "\n",
              "    .colab-df-convert:hover {\n",
              "      background-color: #E2EBFA;\n",
              "      box-shadow: 0px 1px 2px rgba(60, 64, 67, 0.3), 0px 1px 3px 1px rgba(60, 64, 67, 0.15);\n",
              "      fill: #174EA6;\n",
              "    }\n",
              "\n",
              "    [theme=dark] .colab-df-convert {\n",
              "      background-color: #3B4455;\n",
              "      fill: #D2E3FC;\n",
              "    }\n",
              "\n",
              "    [theme=dark] .colab-df-convert:hover {\n",
              "      background-color: #434B5C;\n",
              "      box-shadow: 0px 1px 3px 1px rgba(0, 0, 0, 0.15);\n",
              "      filter: drop-shadow(0px 1px 2px rgba(0, 0, 0, 0.3));\n",
              "      fill: #FFFFFF;\n",
              "    }\n",
              "  </style>\n",
              "\n",
              "      <script>\n",
              "        const buttonEl =\n",
              "          document.querySelector('#df-c7737280-19bd-4b9f-bae5-6b46b5444e49 button.colab-df-convert');\n",
              "        buttonEl.style.display =\n",
              "          google.colab.kernel.accessAllowed ? 'block' : 'none';\n",
              "\n",
              "        async function convertToInteractive(key) {\n",
              "          const element = document.querySelector('#df-c7737280-19bd-4b9f-bae5-6b46b5444e49');\n",
              "          const dataTable =\n",
              "            await google.colab.kernel.invokeFunction('convertToInteractive',\n",
              "                                                     [key], {});\n",
              "          if (!dataTable) return;\n",
              "\n",
              "          const docLinkHtml = 'Like what you see? Visit the ' +\n",
              "            '<a target=\"_blank\" href=https://colab.research.google.com/notebooks/data_table.ipynb>data table notebook</a>'\n",
              "            + ' to learn more about interactive tables.';\n",
              "          element.innerHTML = '';\n",
              "          dataTable['output_type'] = 'display_data';\n",
              "          await google.colab.output.renderOutput(dataTable, element);\n",
              "          const docLink = document.createElement('div');\n",
              "          docLink.innerHTML = docLinkHtml;\n",
              "          element.appendChild(docLink);\n",
              "        }\n",
              "      </script>\n",
              "    </div>\n",
              "  </div>\n",
              "  "
            ]
          },
          "metadata": {},
          "execution_count": 50
        }
      ]
    },
    {
      "cell_type": "code",
      "source": [
        "df.to_csv('/content/processed_asteroid.csv',index=False)"
      ],
      "metadata": {
        "id": "vw4bssuqDVzi"
      },
      "execution_count": null,
      "outputs": []
    },
    {
      "cell_type": "code",
      "source": [
        "new_Data = pd.read_csv('/content/processed_asteroid.csv')"
      ],
      "metadata": {
        "id": "HQJDctCMDVw2"
      },
      "execution_count": null,
      "outputs": []
    },
    {
      "cell_type": "code",
      "source": [
        "new_Data.shape"
      ],
      "metadata": {
        "colab": {
          "base_uri": "https://localhost:8080/"
        },
        "id": "kf2AemMtY3bs",
        "outputId": "203b710d-fc7a-4dec-d107-28bc152a62e8"
      },
      "execution_count": null,
      "outputs": [
        {
          "output_type": "execute_result",
          "data": {
            "text/plain": [
              "(137636, 26)"
            ]
          },
          "metadata": {},
          "execution_count": 53
        }
      ]
    },
    {
      "cell_type": "markdown",
      "source": [
        "Feature Selection(PCA)\n"
      ],
      "metadata": {
        "id": "CgO2hYlBL3cd"
      }
    },
    {
      "cell_type": "code",
      "source": [
        "from sklearn.decomposition import PCA\n",
        "pca = PCA()\n",
        "pca.fit_transform(new_Data)"
      ],
      "metadata": {
        "colab": {
          "base_uri": "https://localhost:8080/"
        },
        "id": "jSZhn2toYU1S",
        "outputId": "c6d06456-72a0-4278-8d31-a148e0b7694a"
      },
      "execution_count": null,
      "outputs": [
        {
          "output_type": "execute_result",
          "data": {
            "text/plain": [
              "array([[-9.97319690e+01, -1.23694349e+02,  3.39060830e+02, ...,\n",
              "        -3.51719877e-02,  1.84005785e-11,  4.19925891e-13],\n",
              "       [-6.91358544e+02,  6.37468665e+04,  3.16194973e+03, ...,\n",
              "        -3.06271394e-02, -1.89836519e-12, -4.67897722e-14],\n",
              "       [-7.86729847e+02,  6.40094176e+04,  1.75301857e+03, ...,\n",
              "        -1.32665327e-02,  4.36690230e-12, -1.67960825e-14],\n",
              "       ...,\n",
              "       [ 3.11727160e+02, -6.15770147e+03, -1.77300359e+02, ...,\n",
              "        -3.38572770e-03,  7.02260679e-13, -6.38194945e-16],\n",
              "       [ 2.26046253e+02, -6.78931388e+03, -1.52174798e+02, ...,\n",
              "        -2.80004297e-03,  6.46574877e-13, -1.61605927e-15],\n",
              "       [-3.59425493e+02, -5.54816497e+03, -2.45704437e+02, ...,\n",
              "         2.88772320e-04, -1.72268781e-13, -1.22477479e-15]])"
            ]
          },
          "metadata": {},
          "execution_count": 54
        }
      ]
    },
    {
      "cell_type": "code",
      "source": [
        "pca.explained_variance_ratio_"
      ],
      "metadata": {
        "colab": {
          "base_uri": "https://localhost:8080/"
        },
        "id": "We1ozUQwYUyp",
        "outputId": "bd105195-b8de-4aea-c9d1-fba7f01f652b"
      },
      "execution_count": null,
      "outputs": [
        {
          "output_type": "execute_result",
          "data": {
            "text/plain": [
              "array([6.93969838e-01, 3.04564259e-01, 1.21037296e-03, 9.38542238e-05,\n",
              "       8.50299990e-05, 7.57504442e-05, 5.60356897e-07, 3.22379998e-07,\n",
              "       7.58710889e-09, 3.01778384e-09, 9.33547898e-10, 7.26879894e-10,\n",
              "       1.49121908e-10, 6.48584280e-11, 3.89554612e-11, 2.82610193e-11,\n",
              "       2.26697487e-11, 1.69687053e-11, 1.47561747e-11, 1.01930570e-11,\n",
              "       2.59552585e-12, 1.91849608e-12, 4.52599771e-13, 1.69479240e-13,\n",
              "       6.14077205e-33, 2.61940757e-38])"
            ]
          },
          "metadata": {},
          "execution_count": 55
        }
      ]
    },
    {
      "cell_type": "code",
      "source": [
        "data = pca.fit_transform(new_Data)"
      ],
      "metadata": {
        "id": "tjW5s6VRYUt3"
      },
      "execution_count": null,
      "outputs": []
    },
    {
      "cell_type": "code",
      "source": [
        "from sklearn.preprocessing import StandardScaler"
      ],
      "metadata": {
        "id": "Oxd4SGO_YUq-"
      },
      "execution_count": null,
      "outputs": []
    },
    {
      "cell_type": "code",
      "source": [
        "scaler=StandardScaler()\n",
        "scaler.fit(data)"
      ],
      "metadata": {
        "colab": {
          "base_uri": "https://localhost:8080/"
        },
        "id": "j9hQGP7Ja8zF",
        "outputId": "9370043a-7d32-4579-89d4-166ce55aa901"
      },
      "execution_count": null,
      "outputs": [
        {
          "output_type": "execute_result",
          "data": {
            "text/plain": [
              "StandardScaler()"
            ]
          },
          "metadata": {},
          "execution_count": 58
        }
      ]
    },
    {
      "cell_type": "code",
      "source": [
        "scaled_data=scaler.transform(data)"
      ],
      "metadata": {
        "id": "9LUVUVnLa5LX"
      },
      "execution_count": null,
      "outputs": []
    },
    {
      "cell_type": "code",
      "source": [
        "scaled_data"
      ],
      "metadata": {
        "colab": {
          "base_uri": "https://localhost:8080/"
        },
        "id": "Yp3gXgwVa5JN",
        "outputId": "3dead2f2-3bea-48dc-823c-1bdea35838b9"
      },
      "execution_count": null,
      "outputs": [
        {
          "output_type": "execute_result",
          "data": {
            "text/plain": [
              "array([[-1.06940135e-02, -2.00210581e-02,  8.70551862e-01, ...,\n",
              "        -7.63159462e+00,  2.09586105e+01,  2.71922221e+02],\n",
              "       [-7.41326748e-02,  1.03180115e+01,  8.11842886e+00, ...,\n",
              "        -6.64545643e+00, -2.18496306e+00, -2.96222100e+01],\n",
              "       [-8.43591049e-02,  1.03605078e+01,  4.50094333e+00, ...,\n",
              "        -2.87856349e+00,  4.95829924e+00, -1.02433230e+01],\n",
              "       ...,\n",
              "       [ 3.34257361e-02, -9.96680119e-01, -4.55225565e-01, ...,\n",
              "        -7.34632956e-01,  7.80106309e-01,  1.96268836e-01],\n",
              "       [ 2.42383832e-02, -1.09891235e+00, -3.90714710e-01, ...,\n",
              "        -6.07551471e-01,  7.16616874e-01, -4.35528135e-01],\n",
              "       [-3.85403109e-02, -8.98021080e-01, -6.30855694e-01, ...,\n",
              "         6.26576269e-02, -2.16976948e-01, -1.82719700e-01]])"
            ]
          },
          "metadata": {},
          "execution_count": 60
        }
      ]
    },
    {
      "cell_type": "code",
      "source": [
        "scaled_data.shape"
      ],
      "metadata": {
        "colab": {
          "base_uri": "https://localhost:8080/"
        },
        "id": "Ob0djGw5a5HR",
        "outputId": "71359c05-553f-42d2-b347-7af47553ee1d"
      },
      "execution_count": null,
      "outputs": [
        {
          "output_type": "execute_result",
          "data": {
            "text/plain": [
              "(137636, 26)"
            ]
          },
          "metadata": {},
          "execution_count": 61
        }
      ]
    },
    {
      "cell_type": "code",
      "source": [
        "pca.fit(scaled_data)"
      ],
      "metadata": {
        "colab": {
          "base_uri": "https://localhost:8080/"
        },
        "id": "RFJZL6H0a5Em",
        "outputId": "85e10e04-4c3c-4e26-9b20-93829198b491"
      },
      "execution_count": null,
      "outputs": [
        {
          "output_type": "execute_result",
          "data": {
            "text/plain": [
              "PCA()"
            ]
          },
          "metadata": {},
          "execution_count": 62
        }
      ]
    },
    {
      "cell_type": "code",
      "source": [
        "x_pca=pca.transform(scaled_data)"
      ],
      "metadata": {
        "id": "8JZRazclbKxO"
      },
      "execution_count": null,
      "outputs": []
    },
    {
      "cell_type": "code",
      "source": [
        "x_pca"
      ],
      "metadata": {
        "colab": {
          "base_uri": "https://localhost:8080/"
        },
        "id": "rMErMgEZbNwN",
        "outputId": "1d015cb5-0dd2-40e9-a157-d0423a53c195"
      },
      "execution_count": null,
      "outputs": [
        {
          "output_type": "execute_result",
          "data": {
            "text/plain": [
              "array([[ 2.07098022e+02,  5.85979001e+01,  1.35567478e+01, ...,\n",
              "        -3.82656789e+01,  1.07654261e+01,  1.77458071e+02],\n",
              "       [-2.24910677e+01,  2.94334148e+01,  8.05033778e+00, ...,\n",
              "        -2.88452214e+01, -3.38221063e+00, -1.94010633e+01],\n",
              "       [-3.73707614e+00,  1.07244222e+01,  3.19669271e+00, ...,\n",
              "        -1.10686291e+01, -1.90336754e+00, -1.07491702e+01],\n",
              "       ...,\n",
              "       [ 6.90401486e-01,  3.44760508e-01,  2.51863457e-01, ...,\n",
              "        -1.55457852e+00, -3.11729497e-01, -4.12835437e-01],\n",
              "       [ 1.98759754e-01, -1.04207593e-01,  5.33757219e-01, ...,\n",
              "        -1.35994670e+00,  3.74351680e-02, -8.14689549e-01],\n",
              "       [-2.82628210e-01,  4.55488278e-01,  1.16322661e+00, ...,\n",
              "        -1.29050312e+00, -1.59524994e+00,  2.42235327e-02]])"
            ]
          },
          "metadata": {},
          "execution_count": 64
        }
      ]
    },
    {
      "cell_type": "markdown",
      "source": [
        "A.Data Modelling using various Machine Learning Algorithms (Use Linear, KNN , Support Vector Machining , Random Forest , Gradient Boost, XG Boost) on processed dataset and Obtain performance metric R2 score:\n",
        "\n",
        "  1. Give little theoritical overview about Error Metrics and R2 metrics.(5 Marks) \n",
        "\n",
        "  2. Data Modelling using Linear Regression Algorithm (2 Marks)\n",
        "\n",
        "  3. Data Modelling using KNN Algorithm (3 Marks)\n",
        "\n",
        "  4. Data Modelling using Support Vector Machining Algorithm (3 Marks)\n",
        "\n",
        "  5. Data Modelling using Random Forest Algorithm (2 Marks)\n",
        "\n",
        "  6. Data Modelling using Gradient Boosting Algorithm (2 Marks)\n",
        "\n",
        "  7. Data Modelling using XG Boost Algorithm (3 Marks)\n",
        "\n",
        "  8. Justify the best Model using R2 score (5 Marks)"
      ],
      "metadata": {
        "id": "AbxshRjdT2Ti"
      }
    },
    {
      "cell_type": "code",
      "source": [
        "from sklearn.model_selection import train_test_split       # To split the dataset into training data and test data..\n",
        "from sklearn.preprocessing import StandardScaler  "
      ],
      "metadata": {
        "id": "TnjvuotvZS_j"
      },
      "execution_count": null,
      "outputs": []
    },
    {
      "cell_type": "code",
      "source": [
        "df = pd.read_csv('/content/processed_asteroid.csv')\n"
      ],
      "metadata": {
        "id": "42tZFXyu6NOH"
      },
      "execution_count": null,
      "outputs": []
    },
    {
      "cell_type": "code",
      "source": [
        "df.head()"
      ],
      "metadata": {
        "id": "6b6IMrPYaOhf",
        "colab": {
          "base_uri": "https://localhost:8080/",
          "height": 317
        },
        "outputId": "9c01793c-dcb5-4853-b724-b1fc79952e18"
      },
      "execution_count": null,
      "outputs": [
        {
          "output_type": "execute_result",
          "data": {
            "text/plain": [
              "   semi-major_axis(au)  eccentricity  x-y_inclination(deg)  \\\n",
              "0             2.769165      0.076009             10.594067   \n",
              "1             2.772466      0.230337             34.836234   \n",
              "2             2.669150      0.256942             12.988919   \n",
              "3             2.361418      0.088721              7.141771   \n",
              "4             2.574249      0.191095              5.366988   \n",
              "\n",
              "   longitude_asc_node  argument_perihelion  perihelion_dist(au)  \\\n",
              "0           80.305532            73.597694             2.558684   \n",
              "1          173.080063           310.048857             2.133865   \n",
              "2          169.852760           248.138626             1.983332   \n",
              "3          103.810804           150.728541             2.151909   \n",
              "4          141.576605           358.687607             2.082324   \n",
              "\n",
              "   aphelion_dist(au)  data_arc(d)  n_obs_used  abs_mag_para  ...  class_APO  \\\n",
              "0           2.979647       8822.0        1002          3.34  ...          0   \n",
              "1           3.411067      72318.0        8490          4.13  ...          0   \n",
              "2           3.354967      72684.0        7104          5.33  ...          0   \n",
              "3           2.570926      24288.0        9325          3.20  ...          0   \n",
              "4           3.066174      63507.0        2916          6.85  ...          0   \n",
              "\n",
              "   class_AST  class_ATE  class_CEN  class_IMB  class_MBA  class_MCA  \\\n",
              "0          0          0          0          0          1          0   \n",
              "1          0          0          0          0          1          0   \n",
              "2          0          0          0          0          1          0   \n",
              "3          0          0          0          0          1          0   \n",
              "4          0          0          0          0          1          0   \n",
              "\n",
              "   class_OMB  class_TJN  class_TNO  \n",
              "0          0          0          0  \n",
              "1          0          0          0  \n",
              "2          0          0          0  \n",
              "3          0          0          0  \n",
              "4          0          0          0  \n",
              "\n",
              "[5 rows x 26 columns]"
            ],
            "text/html": [
              "\n",
              "  <div id=\"df-84bf19f6-c418-41d0-a77d-52ff6818d70c\">\n",
              "    <div class=\"colab-df-container\">\n",
              "      <div>\n",
              "<style scoped>\n",
              "    .dataframe tbody tr th:only-of-type {\n",
              "        vertical-align: middle;\n",
              "    }\n",
              "\n",
              "    .dataframe tbody tr th {\n",
              "        vertical-align: top;\n",
              "    }\n",
              "\n",
              "    .dataframe thead th {\n",
              "        text-align: right;\n",
              "    }\n",
              "</style>\n",
              "<table border=\"1\" class=\"dataframe\">\n",
              "  <thead>\n",
              "    <tr style=\"text-align: right;\">\n",
              "      <th></th>\n",
              "      <th>semi-major_axis(au)</th>\n",
              "      <th>eccentricity</th>\n",
              "      <th>x-y_inclination(deg)</th>\n",
              "      <th>longitude_asc_node</th>\n",
              "      <th>argument_perihelion</th>\n",
              "      <th>perihelion_dist(au)</th>\n",
              "      <th>aphelion_dist(au)</th>\n",
              "      <th>data_arc(d)</th>\n",
              "      <th>n_obs_used</th>\n",
              "      <th>abs_mag_para</th>\n",
              "      <th>...</th>\n",
              "      <th>class_APO</th>\n",
              "      <th>class_AST</th>\n",
              "      <th>class_ATE</th>\n",
              "      <th>class_CEN</th>\n",
              "      <th>class_IMB</th>\n",
              "      <th>class_MBA</th>\n",
              "      <th>class_MCA</th>\n",
              "      <th>class_OMB</th>\n",
              "      <th>class_TJN</th>\n",
              "      <th>class_TNO</th>\n",
              "    </tr>\n",
              "  </thead>\n",
              "  <tbody>\n",
              "    <tr>\n",
              "      <th>0</th>\n",
              "      <td>2.769165</td>\n",
              "      <td>0.076009</td>\n",
              "      <td>10.594067</td>\n",
              "      <td>80.305532</td>\n",
              "      <td>73.597694</td>\n",
              "      <td>2.558684</td>\n",
              "      <td>2.979647</td>\n",
              "      <td>8822.0</td>\n",
              "      <td>1002</td>\n",
              "      <td>3.34</td>\n",
              "      <td>...</td>\n",
              "      <td>0</td>\n",
              "      <td>0</td>\n",
              "      <td>0</td>\n",
              "      <td>0</td>\n",
              "      <td>0</td>\n",
              "      <td>1</td>\n",
              "      <td>0</td>\n",
              "      <td>0</td>\n",
              "      <td>0</td>\n",
              "      <td>0</td>\n",
              "    </tr>\n",
              "    <tr>\n",
              "      <th>1</th>\n",
              "      <td>2.772466</td>\n",
              "      <td>0.230337</td>\n",
              "      <td>34.836234</td>\n",
              "      <td>173.080063</td>\n",
              "      <td>310.048857</td>\n",
              "      <td>2.133865</td>\n",
              "      <td>3.411067</td>\n",
              "      <td>72318.0</td>\n",
              "      <td>8490</td>\n",
              "      <td>4.13</td>\n",
              "      <td>...</td>\n",
              "      <td>0</td>\n",
              "      <td>0</td>\n",
              "      <td>0</td>\n",
              "      <td>0</td>\n",
              "      <td>0</td>\n",
              "      <td>1</td>\n",
              "      <td>0</td>\n",
              "      <td>0</td>\n",
              "      <td>0</td>\n",
              "      <td>0</td>\n",
              "    </tr>\n",
              "    <tr>\n",
              "      <th>2</th>\n",
              "      <td>2.669150</td>\n",
              "      <td>0.256942</td>\n",
              "      <td>12.988919</td>\n",
              "      <td>169.852760</td>\n",
              "      <td>248.138626</td>\n",
              "      <td>1.983332</td>\n",
              "      <td>3.354967</td>\n",
              "      <td>72684.0</td>\n",
              "      <td>7104</td>\n",
              "      <td>5.33</td>\n",
              "      <td>...</td>\n",
              "      <td>0</td>\n",
              "      <td>0</td>\n",
              "      <td>0</td>\n",
              "      <td>0</td>\n",
              "      <td>0</td>\n",
              "      <td>1</td>\n",
              "      <td>0</td>\n",
              "      <td>0</td>\n",
              "      <td>0</td>\n",
              "      <td>0</td>\n",
              "    </tr>\n",
              "    <tr>\n",
              "      <th>3</th>\n",
              "      <td>2.361418</td>\n",
              "      <td>0.088721</td>\n",
              "      <td>7.141771</td>\n",
              "      <td>103.810804</td>\n",
              "      <td>150.728541</td>\n",
              "      <td>2.151909</td>\n",
              "      <td>2.570926</td>\n",
              "      <td>24288.0</td>\n",
              "      <td>9325</td>\n",
              "      <td>3.20</td>\n",
              "      <td>...</td>\n",
              "      <td>0</td>\n",
              "      <td>0</td>\n",
              "      <td>0</td>\n",
              "      <td>0</td>\n",
              "      <td>0</td>\n",
              "      <td>1</td>\n",
              "      <td>0</td>\n",
              "      <td>0</td>\n",
              "      <td>0</td>\n",
              "      <td>0</td>\n",
              "    </tr>\n",
              "    <tr>\n",
              "      <th>4</th>\n",
              "      <td>2.574249</td>\n",
              "      <td>0.191095</td>\n",
              "      <td>5.366988</td>\n",
              "      <td>141.576605</td>\n",
              "      <td>358.687607</td>\n",
              "      <td>2.082324</td>\n",
              "      <td>3.066174</td>\n",
              "      <td>63507.0</td>\n",
              "      <td>2916</td>\n",
              "      <td>6.85</td>\n",
              "      <td>...</td>\n",
              "      <td>0</td>\n",
              "      <td>0</td>\n",
              "      <td>0</td>\n",
              "      <td>0</td>\n",
              "      <td>0</td>\n",
              "      <td>1</td>\n",
              "      <td>0</td>\n",
              "      <td>0</td>\n",
              "      <td>0</td>\n",
              "      <td>0</td>\n",
              "    </tr>\n",
              "  </tbody>\n",
              "</table>\n",
              "<p>5 rows × 26 columns</p>\n",
              "</div>\n",
              "      <button class=\"colab-df-convert\" onclick=\"convertToInteractive('df-84bf19f6-c418-41d0-a77d-52ff6818d70c')\"\n",
              "              title=\"Convert this dataframe to an interactive table.\"\n",
              "              style=\"display:none;\">\n",
              "        \n",
              "  <svg xmlns=\"http://www.w3.org/2000/svg\" height=\"24px\"viewBox=\"0 0 24 24\"\n",
              "       width=\"24px\">\n",
              "    <path d=\"M0 0h24v24H0V0z\" fill=\"none\"/>\n",
              "    <path d=\"M18.56 5.44l.94 2.06.94-2.06 2.06-.94-2.06-.94-.94-2.06-.94 2.06-2.06.94zm-11 1L8.5 8.5l.94-2.06 2.06-.94-2.06-.94L8.5 2.5l-.94 2.06-2.06.94zm10 10l.94 2.06.94-2.06 2.06-.94-2.06-.94-.94-2.06-.94 2.06-2.06.94z\"/><path d=\"M17.41 7.96l-1.37-1.37c-.4-.4-.92-.59-1.43-.59-.52 0-1.04.2-1.43.59L10.3 9.45l-7.72 7.72c-.78.78-.78 2.05 0 2.83L4 21.41c.39.39.9.59 1.41.59.51 0 1.02-.2 1.41-.59l7.78-7.78 2.81-2.81c.8-.78.8-2.07 0-2.86zM5.41 20L4 18.59l7.72-7.72 1.47 1.35L5.41 20z\"/>\n",
              "  </svg>\n",
              "      </button>\n",
              "      \n",
              "  <style>\n",
              "    .colab-df-container {\n",
              "      display:flex;\n",
              "      flex-wrap:wrap;\n",
              "      gap: 12px;\n",
              "    }\n",
              "\n",
              "    .colab-df-convert {\n",
              "      background-color: #E8F0FE;\n",
              "      border: none;\n",
              "      border-radius: 50%;\n",
              "      cursor: pointer;\n",
              "      display: none;\n",
              "      fill: #1967D2;\n",
              "      height: 32px;\n",
              "      padding: 0 0 0 0;\n",
              "      width: 32px;\n",
              "    }\n",
              "\n",
              "    .colab-df-convert:hover {\n",
              "      background-color: #E2EBFA;\n",
              "      box-shadow: 0px 1px 2px rgba(60, 64, 67, 0.3), 0px 1px 3px 1px rgba(60, 64, 67, 0.15);\n",
              "      fill: #174EA6;\n",
              "    }\n",
              "\n",
              "    [theme=dark] .colab-df-convert {\n",
              "      background-color: #3B4455;\n",
              "      fill: #D2E3FC;\n",
              "    }\n",
              "\n",
              "    [theme=dark] .colab-df-convert:hover {\n",
              "      background-color: #434B5C;\n",
              "      box-shadow: 0px 1px 3px 1px rgba(0, 0, 0, 0.15);\n",
              "      filter: drop-shadow(0px 1px 2px rgba(0, 0, 0, 0.3));\n",
              "      fill: #FFFFFF;\n",
              "    }\n",
              "  </style>\n",
              "\n",
              "      <script>\n",
              "        const buttonEl =\n",
              "          document.querySelector('#df-84bf19f6-c418-41d0-a77d-52ff6818d70c button.colab-df-convert');\n",
              "        buttonEl.style.display =\n",
              "          google.colab.kernel.accessAllowed ? 'block' : 'none';\n",
              "\n",
              "        async function convertToInteractive(key) {\n",
              "          const element = document.querySelector('#df-84bf19f6-c418-41d0-a77d-52ff6818d70c');\n",
              "          const dataTable =\n",
              "            await google.colab.kernel.invokeFunction('convertToInteractive',\n",
              "                                                     [key], {});\n",
              "          if (!dataTable) return;\n",
              "\n",
              "          const docLinkHtml = 'Like what you see? Visit the ' +\n",
              "            '<a target=\"_blank\" href=https://colab.research.google.com/notebooks/data_table.ipynb>data table notebook</a>'\n",
              "            + ' to learn more about interactive tables.';\n",
              "          element.innerHTML = '';\n",
              "          dataTable['output_type'] = 'display_data';\n",
              "          await google.colab.output.renderOutput(dataTable, element);\n",
              "          const docLink = document.createElement('div');\n",
              "          docLink.innerHTML = docLinkHtml;\n",
              "          element.appendChild(docLink);\n",
              "        }\n",
              "      </script>\n",
              "    </div>\n",
              "  </div>\n",
              "  "
            ]
          },
          "metadata": {},
          "execution_count": 68
        }
      ]
    },
    {
      "cell_type": "code",
      "source": [
        "df.shape"
      ],
      "metadata": {
        "colab": {
          "base_uri": "https://localhost:8080/"
        },
        "id": "BzijeNf9ZZ7q",
        "outputId": "776ac6f1-fc58-49b0-aac2-20380cedb5e3"
      },
      "execution_count": null,
      "outputs": [
        {
          "output_type": "execute_result",
          "data": {
            "text/plain": [
              "(137636, 26)"
            ]
          },
          "metadata": {},
          "execution_count": 69
        }
      ]
    },
    {
      "cell_type": "code",
      "source": [
        "#Linear Regression\n",
        "y = df['diameter']\n",
        "X = df.drop(columns='diameter')"
      ],
      "metadata": {
        "id": "Y9SI0gF1bwUP"
      },
      "execution_count": null,
      "outputs": []
    },
    {
      "cell_type": "code",
      "source": [
        "X.shape"
      ],
      "metadata": {
        "colab": {
          "base_uri": "https://localhost:8080/"
        },
        "id": "6Phv4ExpMMfw",
        "outputId": "495bf094-513f-4d5c-89e9-41179b156d58"
      },
      "execution_count": null,
      "outputs": [
        {
          "output_type": "execute_result",
          "data": {
            "text/plain": [
              "(137636, 25)"
            ]
          },
          "metadata": {},
          "execution_count": 71
        }
      ]
    },
    {
      "cell_type": "code",
      "source": [
        "y.shape"
      ],
      "metadata": {
        "colab": {
          "base_uri": "https://localhost:8080/"
        },
        "id": "YTMqnzZTMQLI",
        "outputId": "2abf8ff8-58da-49fa-ebe5-01840ad1b74d"
      },
      "execution_count": null,
      "outputs": [
        {
          "output_type": "execute_result",
          "data": {
            "text/plain": [
              "(137636,)"
            ]
          },
          "metadata": {},
          "execution_count": 72
        }
      ]
    },
    {
      "cell_type": "code",
      "source": [
        "scaler = StandardScaler()\n",
        "X_std = scaler.fit_transform(X)"
      ],
      "metadata": {
        "id": "zjljg6SDVcoM"
      },
      "execution_count": null,
      "outputs": []
    },
    {
      "cell_type": "code",
      "source": [
        "X_std"
      ],
      "metadata": {
        "colab": {
          "base_uri": "https://localhost:8080/"
        },
        "id": "YIxIO6QYanH6",
        "outputId": "62636c6a-df0d-40b0-a817-31601cbe36ef"
      },
      "execution_count": null,
      "outputs": [
        {
          "output_type": "execute_result",
          "data": {
            "text/plain": [
              "array([[-0.02984634, -0.89561457,  0.03582764, ..., -0.24023591,\n",
              "        -0.11748859, -0.0097191 ],\n",
              "       [-0.02767868,  1.09383293,  3.5825523 , ..., -0.24023591,\n",
              "        -0.11748859, -0.0097191 ],\n",
              "       [-0.09552794,  1.43680578,  0.38620394, ..., -0.24023591,\n",
              "        -0.11748859, -0.0097191 ],\n",
              "       ...,\n",
              "       [ 0.21778788,  0.96778974,  1.11446495, ..., -0.24023591,\n",
              "        -0.11748859, -0.0097191 ],\n",
              "       [ 0.15545871,  1.83007504,  0.60095756, ..., -0.24023591,\n",
              "        -0.11748859, -0.0097191 ],\n",
              "       [-0.26080466, -0.47031763, -0.85200308, ..., -0.24023591,\n",
              "        -0.11748859, -0.0097191 ]])"
            ]
          },
          "metadata": {},
          "execution_count": 74
        }
      ]
    },
    {
      "cell_type": "code",
      "source": [
        "X_std.shape"
      ],
      "metadata": {
        "colab": {
          "base_uri": "https://localhost:8080/"
        },
        "id": "8TypT1KsapEb",
        "outputId": "fec599e8-74ee-45b2-ed41-624878db4cd7"
      },
      "execution_count": null,
      "outputs": [
        {
          "output_type": "execute_result",
          "data": {
            "text/plain": [
              "(137636, 25)"
            ]
          },
          "metadata": {},
          "execution_count": 75
        }
      ]
    },
    {
      "cell_type": "code",
      "source": [
        "X_train,X_test,y_train,y_test = train_test_split(X,y,test_size = 0.2, random_state=42)"
      ],
      "metadata": {
        "id": "NRHiXVqRhnK8"
      },
      "execution_count": null,
      "outputs": []
    },
    {
      "cell_type": "code",
      "source": [
        "print('Shape of X and y',X.shape,y.shape )\n",
        "print('X_train_shape',X_train.shape)\n",
        "print('X_test_shape',X_test.shape)\n",
        "print('y_train_shape',y_train.shape)\n",
        "print('y_test_shape',y_test.shape)"
      ],
      "metadata": {
        "colab": {
          "base_uri": "https://localhost:8080/"
        },
        "id": "CTsRUuqjbUhD",
        "outputId": "85e54df6-8c5b-4ed9-82d0-27cb0a12cb16"
      },
      "execution_count": null,
      "outputs": [
        {
          "output_type": "stream",
          "name": "stdout",
          "text": [
            "Shape of X and y (137636, 25) (137636,)\n",
            "X_train_shape (110108, 25)\n",
            "X_test_shape (27528, 25)\n",
            "y_train_shape (110108,)\n",
            "y_test_shape (27528,)\n"
          ]
        }
      ]
    },
    {
      "cell_type": "markdown",
      "source": [
        "Linear Regression"
      ],
      "metadata": {
        "id": "LCJxnS3IbNHJ"
      }
    },
    {
      "cell_type": "code",
      "source": [
        "from sklearn.linear_model import LinearRegression\n",
        "Regressor = LinearRegression()\n",
        "Regressor.fit(X_train,y_train)"
      ],
      "metadata": {
        "colab": {
          "base_uri": "https://localhost:8080/"
        },
        "id": "Flx_u1flhnIU",
        "outputId": "da0a56a4-fe6b-4e02-cf31-2e080ccfe7db"
      },
      "execution_count": null,
      "outputs": [
        {
          "output_type": "execute_result",
          "data": {
            "text/plain": [
              "LinearRegression()"
            ]
          },
          "metadata": {},
          "execution_count": 78
        }
      ]
    },
    {
      "cell_type": "code",
      "source": [
        "lr_pred = Regressor.predict(X_test)"
      ],
      "metadata": {
        "id": "Jn2RXZs7hnB7"
      },
      "execution_count": null,
      "outputs": []
    },
    {
      "cell_type": "markdown",
      "source": [
        "KNN"
      ],
      "metadata": {
        "id": "pg3QoxcmQ-dZ"
      }
    },
    {
      "cell_type": "code",
      "source": [
        "from sklearn.neighbors import KNeighborsRegressor\n",
        "model = KNeighborsRegressor(n_neighbors=5)\n",
        "model.fit(X_train, y_train)"
      ],
      "metadata": {
        "colab": {
          "base_uri": "https://localhost:8080/"
        },
        "id": "y9k5Nl_Ya_xk",
        "outputId": "d239a7e7-6e91-4a68-9ece-a1e8d7543ff5"
      },
      "execution_count": null,
      "outputs": [
        {
          "output_type": "execute_result",
          "data": {
            "text/plain": [
              "KNeighborsRegressor()"
            ]
          },
          "metadata": {},
          "execution_count": 80
        }
      ]
    },
    {
      "cell_type": "code",
      "source": [
        "knnPrediction  = model.predict(X_test)"
      ],
      "metadata": {
        "id": "HhfhREtia_oL"
      },
      "execution_count": null,
      "outputs": []
    },
    {
      "cell_type": "markdown",
      "source": [
        "SVM"
      ],
      "metadata": {
        "id": "dq3sKQzUb1Dk"
      }
    },
    {
      "cell_type": "code",
      "source": [
        "# from sklearn.svm import SVR\n",
        "# model = SVR()\n",
        "# model.fit(X_train, y_train)"
      ],
      "metadata": {
        "id": "2vNrWF5qbw3a"
      },
      "execution_count": null,
      "outputs": []
    },
    {
      "cell_type": "code",
      "source": [
        "#svmPrediction  = model.predict(X_test)"
      ],
      "metadata": {
        "id": "30dnbtR0b5S6"
      },
      "execution_count": null,
      "outputs": []
    },
    {
      "cell_type": "markdown",
      "source": [
        "Random Forest"
      ],
      "metadata": {
        "id": "bxQaNPMRcIBE"
      }
    },
    {
      "cell_type": "code",
      "source": [
        "from sklearn.ensemble import RandomForestRegressor\n",
        "model = RandomForestRegressor()\n",
        "model.fit(X_train, y_train)"
      ],
      "metadata": {
        "colab": {
          "base_uri": "https://localhost:8080/"
        },
        "id": "dbYDb0DucHYc",
        "outputId": "0c0e291e-9d1c-4858-96c2-a912d58a8be5"
      },
      "execution_count": null,
      "outputs": [
        {
          "output_type": "execute_result",
          "data": {
            "text/plain": [
              "RandomForestRegressor()"
            ]
          },
          "metadata": {},
          "execution_count": 84
        }
      ]
    },
    {
      "cell_type": "code",
      "source": [
        "rfPrediction  = model.predict(X_test)"
      ],
      "metadata": {
        "id": "omCTvQxEcMPq"
      },
      "execution_count": null,
      "outputs": []
    },
    {
      "cell_type": "markdown",
      "source": [
        "Gradient Boost"
      ],
      "metadata": {
        "id": "3DeCLZticS0S"
      }
    },
    {
      "cell_type": "code",
      "source": [
        "from sklearn.ensemble import GradientBoostingRegressor\n",
        "gradientregressor = GradientBoostingRegressor(n_estimators=200,learning_rate=0.15)"
      ],
      "metadata": {
        "id": "RbVtzZu7cSkM"
      },
      "execution_count": null,
      "outputs": []
    },
    {
      "cell_type": "code",
      "source": [
        "model = gradientregressor.fit(X_train, y_train)\n",
        "\n",
        "#Predict the response for test dataset\n",
        "gbPrediction = model.predict(X_test)"
      ],
      "metadata": {
        "id": "2JAJg1yXcSMh"
      },
      "execution_count": null,
      "outputs": []
    },
    {
      "cell_type": "markdown",
      "source": [
        "XGBoost"
      ],
      "metadata": {
        "id": "UAsbGJPWcyPs"
      }
    },
    {
      "cell_type": "code",
      "source": [
        "from xgboost import XGBRegressor"
      ],
      "metadata": {
        "id": "QhLRR5R7c1Ea"
      },
      "execution_count": null,
      "outputs": []
    },
    {
      "cell_type": "code",
      "source": [
        "XGR = XGBRegressor(gamma=10)"
      ],
      "metadata": {
        "id": "ZxCwVKhJc0n2"
      },
      "execution_count": null,
      "outputs": []
    },
    {
      "cell_type": "code",
      "source": [
        "model = XGR.fit(X_train, y_train)"
      ],
      "metadata": {
        "colab": {
          "base_uri": "https://localhost:8080/"
        },
        "id": "OLwqbvfOc66z",
        "outputId": "095fe01c-5f87-46f5-81c1-2a06fc0c1d51"
      },
      "execution_count": null,
      "outputs": [
        {
          "output_type": "stream",
          "name": "stdout",
          "text": [
            "[21:06:17] WARNING: /workspace/src/objective/regression_obj.cu:152: reg:linear is now deprecated in favor of reg:squarederror.\n"
          ]
        }
      ]
    },
    {
      "cell_type": "code",
      "source": [
        "xgbPrediction = model.predict(X_test)"
      ],
      "metadata": {
        "id": "AqM4T3aTc6ly"
      },
      "execution_count": null,
      "outputs": []
    },
    {
      "cell_type": "markdown",
      "source": [
        "R2 SCORE"
      ],
      "metadata": {
        "id": "R-EHlFwHdCbt"
      }
    },
    {
      "cell_type": "code",
      "source": [
        "from sklearn.metrics import mean_squared_error      #for getting the mean squared error\n",
        "from sklearn.metrics import r2_score  "
      ],
      "metadata": {
        "id": "Jt4wEqYSdEgK"
      },
      "execution_count": null,
      "outputs": []
    },
    {
      "cell_type": "code",
      "source": [
        "#Linear Regression\n",
        "r2 = r2_score(y_test,lr_pred)\n",
        "print(\"R2 Score : \",r2) "
      ],
      "metadata": {
        "colab": {
          "base_uri": "https://localhost:8080/"
        },
        "id": "PDbLnpGKdEc6",
        "outputId": "437282f5-98c5-45dc-facf-87d25a0c7585"
      },
      "execution_count": null,
      "outputs": [
        {
          "output_type": "stream",
          "name": "stdout",
          "text": [
            "R2 Score :  0.39235720249583916\n"
          ]
        }
      ]
    },
    {
      "cell_type": "code",
      "source": [
        "#Knn\n",
        "r2 = r2_score(y_test,knnPrediction)\n",
        "print(\"R2 Score : \",r2) "
      ],
      "metadata": {
        "colab": {
          "base_uri": "https://localhost:8080/"
        },
        "id": "mylPobhYdEWr",
        "outputId": "f523de4d-6bab-4ddd-ddb0-f5def128f6a2"
      },
      "execution_count": null,
      "outputs": [
        {
          "output_type": "stream",
          "name": "stdout",
          "text": [
            "R2 Score :  0.4473266415962037\n"
          ]
        }
      ]
    },
    {
      "cell_type": "code",
      "source": [
        "#Random Forest\n",
        "r2 = r2_score(y_test,rfPrediction)\n",
        "print(\"R2 Score : \",r2) "
      ],
      "metadata": {
        "colab": {
          "base_uri": "https://localhost:8080/"
        },
        "id": "W3WlOVRuw91f",
        "outputId": "d9b6ed00-87ca-4772-9d4f-a412dd9f072d"
      },
      "execution_count": null,
      "outputs": [
        {
          "output_type": "stream",
          "name": "stdout",
          "text": [
            "R2 Score :  0.9205630399835073\n"
          ]
        }
      ]
    },
    {
      "cell_type": "code",
      "source": [
        "#Gradient Boost\n",
        "r2 = r2_score(y_test,gbPrediction)\n",
        "print(\"R2 Score : \",r2) "
      ],
      "metadata": {
        "colab": {
          "base_uri": "https://localhost:8080/"
        },
        "id": "-SvxAtQXxIEF",
        "outputId": "2b927ff9-cadf-44b1-adfe-7fbe424d1801"
      },
      "execution_count": null,
      "outputs": [
        {
          "output_type": "stream",
          "name": "stdout",
          "text": [
            "R2 Score :  0.9484030831701485\n"
          ]
        }
      ]
    },
    {
      "cell_type": "code",
      "source": [
        "#Xgboost\n",
        "r2 = r2_score(y_test,xgbPrediction)\n",
        "print(\"R2 Score : \",r2) "
      ],
      "metadata": {
        "colab": {
          "base_uri": "https://localhost:8080/"
        },
        "id": "BNSCLggmw9uC",
        "outputId": "2935d579-3b1b-4d7c-97e3-949240936d29"
      },
      "execution_count": null,
      "outputs": [
        {
          "output_type": "stream",
          "name": "stdout",
          "text": [
            "R2 Score :  0.9346442727370365\n"
          ]
        }
      ]
    },
    {
      "cell_type": "markdown",
      "source": [
        "Performing Hyper parameter tuning on every algorithm by using any one of available options such as GridSearch, K-Fold, Randomized Search. \n"
      ],
      "metadata": {
        "id": "5QSu1qs5YxF0"
      }
    },
    {
      "cell_type": "code",
      "source": [
        "data = pd.read_csv('/content/processed_asteroid.csv')"
      ],
      "metadata": {
        "id": "5D-onh-T4X8r"
      },
      "execution_count": null,
      "outputs": []
    },
    {
      "cell_type": "code",
      "source": [
        "#Cross Validation for LinearRegresion\n",
        "from sklearn.model_selection import cross_val_score\n",
        "from sklearn.model_selection import KFold\n",
        "model=LinearRegression()\n",
        "kfold_validation=KFold(10)"
      ],
      "metadata": {
        "id": "-F6AEEQr0uD0"
      },
      "execution_count": null,
      "outputs": []
    },
    {
      "cell_type": "code",
      "source": [
        "results=cross_val_score(model,X_std,y,cv=kfold_validation)\n",
        "print(results)\n",
        "print(np.mean(results))"
      ],
      "metadata": {
        "colab": {
          "base_uri": "https://localhost:8080/"
        },
        "id": "Jnmd8neW9OOk",
        "outputId": "41e6a358-108f-437a-f0be-2677ed5d5cbb"
      },
      "execution_count": null,
      "outputs": [
        {
          "output_type": "stream",
          "name": "stdout",
          "text": [
            "[  0.14378896   0.49453005   0.4624558   -0.24087481   0.45906204\n",
            "  -0.10336814  -0.98715392  -0.10432825  -2.02721683 -24.84638234]\n",
            "-2.6749487448792677\n"
          ]
        }
      ]
    },
    {
      "cell_type": "code",
      "source": [
        "#Cross Validation for KNN\n",
        "model = KNeighborsRegressor(n_neighbors=5)\n",
        "kfold_validation=KFold(10)"
      ],
      "metadata": {
        "id": "wh1VZvV6YkGn"
      },
      "execution_count": null,
      "outputs": []
    },
    {
      "cell_type": "code",
      "source": [
        "results=cross_val_score(model,X_std,y,cv=kfold_validation)\n",
        "print(results)\n",
        "print(np.mean(results))"
      ],
      "metadata": {
        "colab": {
          "base_uri": "https://localhost:8080/"
        },
        "id": "Md49xO22ZAht",
        "outputId": "c730b6d7-7bed-4e1c-f81e-968896dc2925"
      },
      "execution_count": null,
      "outputs": [
        {
          "output_type": "stream",
          "name": "stdout",
          "text": [
            "[ 0.18595425  0.50593094  0.90860137  0.88833281  0.85628092  0.82992585\n",
            "  0.90240386  0.8906378   0.66107324 -0.60885791]\n",
            "0.6020283124214171\n"
          ]
        }
      ]
    },
    {
      "cell_type": "code",
      "source": [
        "#Cross validation for Randomforest\n",
        "model = RandomForestRegressor()\n",
        "kfold_validation=KFold(10)"
      ],
      "metadata": {
        "id": "9ieFbrXX1bU8"
      },
      "execution_count": null,
      "outputs": []
    },
    {
      "cell_type": "code",
      "source": [
        "results=cross_val_score(model,X_std,y,cv=kfold_validation)\n",
        "print(results)\n",
        "print(np.mean(results))"
      ],
      "metadata": {
        "id": "41kE2tv71onl",
        "colab": {
          "base_uri": "https://localhost:8080/"
        },
        "outputId": "956d41a6-574f-418f-dab5-5e1f71a730b5"
      },
      "execution_count": null,
      "outputs": [
        {
          "output_type": "stream",
          "name": "stdout",
          "text": [
            "[0.87255834 0.93470971 0.97612976 0.96276091 0.97751394 0.9760533\n",
            " 0.9723452  0.9745985  0.89258763 0.82493256]\n",
            "0.9364189852025723\n"
          ]
        }
      ]
    },
    {
      "cell_type": "code",
      "source": [
        "#Cross validation for gradient boost\n",
        "gradientregressor = GradientBoostingRegressor(n_estimators=200,learning_rate=0.15)"
      ],
      "metadata": {
        "id": "EXdBoGFPpO5i"
      },
      "execution_count": null,
      "outputs": []
    },
    {
      "cell_type": "code",
      "source": [
        "results=cross_val_score(model,X_std,y,cv=kfold_validation)\n",
        "print(results)\n",
        "print(np.mean(results))"
      ],
      "metadata": {
        "id": "HEV8H5GspPj4",
        "colab": {
          "base_uri": "https://localhost:8080/"
        },
        "outputId": "13e2d90c-e3cc-4217-a1ea-959c1dc93977"
      },
      "execution_count": null,
      "outputs": [
        {
          "output_type": "stream",
          "name": "stdout",
          "text": [
            "[0.87522142 0.94283266 0.97627932 0.96277977 0.97961452 0.97542649\n",
            " 0.97237386 0.97406758 0.88964389 0.83172881]\n",
            "0.93799683194162\n"
          ]
        }
      ]
    },
    {
      "cell_type": "code",
      "source": [
        "#Cross validation for xgboost\n",
        "XGR = XGBRegressor(gamma=10)"
      ],
      "metadata": {
        "id": "CeuCypCepVeY"
      },
      "execution_count": null,
      "outputs": []
    },
    {
      "cell_type": "code",
      "source": [
        "results=cross_val_score(model,X_std,y,cv=kfold_validation)\n",
        "print(results)\n",
        "print(np.mean(results))"
      ],
      "metadata": {
        "id": "KlUoIiY6plGY",
        "colab": {
          "base_uri": "https://localhost:8080/"
        },
        "outputId": "ce2ce83d-6753-424c-e3f8-bc811b72008d"
      },
      "execution_count": null,
      "outputs": [
        {
          "output_type": "stream",
          "name": "stdout",
          "text": [
            "[0.88570531 0.94030056 0.97658813 0.96280721 0.98088064 0.97525841\n",
            " 0.97247092 0.97445964 0.89193435 0.82206649]\n",
            "0.9382471655894056\n"
          ]
        }
      ]
    },
    {
      "cell_type": "markdown",
      "source": [
        "# Conclusion\n",
        "From the Cross validation score, XtremeGradientBoost performed well with a score of 93.82 percent."
      ],
      "metadata": {
        "id": "4qtN_paT0BAx"
      }
    },
    {
      "cell_type": "code",
      "source": [],
      "metadata": {
        "id": "-DVBw1sr58jF"
      },
      "execution_count": null,
      "outputs": []
    }
  ]
}